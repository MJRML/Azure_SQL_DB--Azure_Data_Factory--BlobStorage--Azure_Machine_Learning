{
 "cells": [
  {
   "cell_type": "code",
   "execution_count": 1,
   "id": "c801d189-0356-4e93-bd13-8feeff85de05",
   "metadata": {},
   "outputs": [],
   "source": [
    "import pandas as pd #importing panadas"
   ]
  },
  {
   "cell_type": "code",
   "execution_count": 2,
   "id": "6d04e0f3-894e-4047-88a6-4515cb91f87e",
   "metadata": {},
   "outputs": [],
   "source": [
    "df = pd.read_csv('loan_data_set.csv') #using panadas to read the dataset"
   ]
  },
  {
   "cell_type": "code",
   "execution_count": 3,
   "id": "bb8fb985-32a3-4e91-bbf6-b1a2e536565b",
   "metadata": {},
   "outputs": [
    {
     "data": {
      "text/html": [
       "<div>\n",
       "<style scoped>\n",
       "    .dataframe tbody tr th:only-of-type {\n",
       "        vertical-align: middle;\n",
       "    }\n",
       "\n",
       "    .dataframe tbody tr th {\n",
       "        vertical-align: top;\n",
       "    }\n",
       "\n",
       "    .dataframe thead th {\n",
       "        text-align: right;\n",
       "    }\n",
       "</style>\n",
       "<table border=\"1\" class=\"dataframe\">\n",
       "  <thead>\n",
       "    <tr style=\"text-align: right;\">\n",
       "      <th></th>\n",
       "      <th>Loan_ID</th>\n",
       "      <th>Gender</th>\n",
       "      <th>Married</th>\n",
       "      <th>Dependents</th>\n",
       "      <th>Education</th>\n",
       "      <th>Self_Employed</th>\n",
       "      <th>ApplicantIncome</th>\n",
       "      <th>CoapplicantIncome</th>\n",
       "      <th>LoanAmount</th>\n",
       "      <th>Loan_Amount_Term</th>\n",
       "      <th>Credit_History</th>\n",
       "      <th>Property_Area</th>\n",
       "      <th>Loan_Status</th>\n",
       "    </tr>\n",
       "  </thead>\n",
       "  <tbody>\n",
       "    <tr>\n",
       "      <th>0</th>\n",
       "      <td>LP001002</td>\n",
       "      <td>Male</td>\n",
       "      <td>No</td>\n",
       "      <td>0</td>\n",
       "      <td>Graduate</td>\n",
       "      <td>No</td>\n",
       "      <td>5849</td>\n",
       "      <td>0.0</td>\n",
       "      <td>NaN</td>\n",
       "      <td>360.0</td>\n",
       "      <td>1.0</td>\n",
       "      <td>Urban</td>\n",
       "      <td>Y</td>\n",
       "    </tr>\n",
       "    <tr>\n",
       "      <th>1</th>\n",
       "      <td>LP001003</td>\n",
       "      <td>Male</td>\n",
       "      <td>Yes</td>\n",
       "      <td>1</td>\n",
       "      <td>Graduate</td>\n",
       "      <td>No</td>\n",
       "      <td>4583</td>\n",
       "      <td>1508.0</td>\n",
       "      <td>128.0</td>\n",
       "      <td>360.0</td>\n",
       "      <td>1.0</td>\n",
       "      <td>Rural</td>\n",
       "      <td>N</td>\n",
       "    </tr>\n",
       "    <tr>\n",
       "      <th>2</th>\n",
       "      <td>LP001005</td>\n",
       "      <td>Male</td>\n",
       "      <td>Yes</td>\n",
       "      <td>0</td>\n",
       "      <td>Graduate</td>\n",
       "      <td>Yes</td>\n",
       "      <td>3000</td>\n",
       "      <td>0.0</td>\n",
       "      <td>66.0</td>\n",
       "      <td>360.0</td>\n",
       "      <td>1.0</td>\n",
       "      <td>Urban</td>\n",
       "      <td>Y</td>\n",
       "    </tr>\n",
       "    <tr>\n",
       "      <th>3</th>\n",
       "      <td>LP001006</td>\n",
       "      <td>Male</td>\n",
       "      <td>Yes</td>\n",
       "      <td>0</td>\n",
       "      <td>Not Graduate</td>\n",
       "      <td>No</td>\n",
       "      <td>2583</td>\n",
       "      <td>2358.0</td>\n",
       "      <td>120.0</td>\n",
       "      <td>360.0</td>\n",
       "      <td>1.0</td>\n",
       "      <td>Urban</td>\n",
       "      <td>Y</td>\n",
       "    </tr>\n",
       "    <tr>\n",
       "      <th>4</th>\n",
       "      <td>LP001008</td>\n",
       "      <td>Male</td>\n",
       "      <td>No</td>\n",
       "      <td>0</td>\n",
       "      <td>Graduate</td>\n",
       "      <td>No</td>\n",
       "      <td>6000</td>\n",
       "      <td>0.0</td>\n",
       "      <td>141.0</td>\n",
       "      <td>360.0</td>\n",
       "      <td>1.0</td>\n",
       "      <td>Urban</td>\n",
       "      <td>Y</td>\n",
       "    </tr>\n",
       "  </tbody>\n",
       "</table>\n",
       "</div>"
      ],
      "text/plain": [
       "    Loan_ID Gender Married Dependents     Education Self_Employed  \\\n",
       "0  LP001002   Male      No          0      Graduate            No   \n",
       "1  LP001003   Male     Yes          1      Graduate            No   \n",
       "2  LP001005   Male     Yes          0      Graduate           Yes   \n",
       "3  LP001006   Male     Yes          0  Not Graduate            No   \n",
       "4  LP001008   Male      No          0      Graduate            No   \n",
       "\n",
       "   ApplicantIncome  CoapplicantIncome  LoanAmount  Loan_Amount_Term  \\\n",
       "0             5849                0.0         NaN             360.0   \n",
       "1             4583             1508.0       128.0             360.0   \n",
       "2             3000                0.0        66.0             360.0   \n",
       "3             2583             2358.0       120.0             360.0   \n",
       "4             6000                0.0       141.0             360.0   \n",
       "\n",
       "   Credit_History Property_Area Loan_Status  \n",
       "0             1.0         Urban           Y  \n",
       "1             1.0         Rural           N  \n",
       "2             1.0         Urban           Y  \n",
       "3             1.0         Urban           Y  \n",
       "4             1.0         Urban           Y  "
      ]
     },
     "execution_count": 3,
     "metadata": {},
     "output_type": "execute_result"
    }
   ],
   "source": [
    "df.head() #printing the first 5 data entries of the dataset"
   ]
  },
  {
   "cell_type": "markdown",
   "id": "af763658-6690-49fa-8443-6628d5a0afe3",
   "metadata": {},
   "source": [
    "Connection to azure SQL DB"
   ]
  },
  {
   "cell_type": "code",
   "execution_count": 4,
   "id": "bd9bb28d-0f58-4a90-a9c0-60b672f973c9",
   "metadata": {},
   "outputs": [],
   "source": [
    "from sqlalchemy import create_engine\n",
    "import urllib #urllib is a built-in Python module used for working with URLs — it helps you fetch, parse, and manipulate URLs\n",
    "\n",
    "#connection details\n",
    "server = '' #enter your sql data server address ends with \".database.windows.net:\n",
    "database = '' #enter your database name that you created in azure\n",
    "username = '' #enter your admin user name you setup when configuring the sql server\n",
    "password = '' #enter your pasword  you setup when configuring the sql server"
   ]
  },
  {
   "cell_type": "code",
   "execution_count": 5,
   "id": "588b14c3-3297-489f-b9d5-09cdb57fb72c",
   "metadata": {},
   "outputs": [],
   "source": [
    "#Build connection string with OBDC Driver 17\n",
    "#download and install the ODBC driver 17 from the url below\n",
    "# https://learn.microsoft.com/en-us/sql/connect/odbc/download-odbc-driver-for-sql-server?view=sql-server-ver17#download-for-windows\n",
    "\n",
    "params = urllib.parse.quote_plus( #This encodes special characters in the string (e.g., spaces, =, ;) so the entire string can be passed safely as part of a URL.\n",
    "    f'DRIVER={{ODBC Driver 17 for SQL Server}};SERVER={server};DATABASE={database};UID={username};PWD={password}' #using an f string to read our variables from above \n",
    ")\n",
    " \n",
    "#crate SQLAlchemy engine\n",
    "engine = create_engine(f'mssql+pyodbc:///?odbc_connect={params}') #creates a SQLAlchemy engine object that lets your Python code connect to a Microsoft SQL Server database (like Azure SQL) using the pyodbc driver."
   ]
  },
  {
   "cell_type": "code",
   "execution_count": 6,
   "id": "07413bf0-0e3f-4797-a29c-800507643c4a",
   "metadata": {},
   "outputs": [
    {
     "name": "stdout",
     "output_type": "stream",
     "text": [
      "Data successfully uploaded yo table loan_dataset\n"
     ]
    }
   ],
   "source": [
    "#name of the target table in your database\n",
    "table_name = 'loan_dataset'\n",
    "\n",
    "#upload data to Azure SqL - 'replace' will drop if it exists and create a new one\n",
    "#as we are creating a new one we can leave it as replace\n",
    "\n",
    "#A Pandas method that writes the DataFrame to a SQL database table.\n",
    "#The name of the table in the database where the data will be stored.\n",
    "#connection or engine object from SQLAlchemy - tells Pandas where to write the code\n",
    "df.to_sql(table_name,con=engine,if_exists='replace',index=False) #Index = False - do not write dataframes index as a seperate column - if we do not set this we will need to remove this column after\n",
    "\n",
    "print(f'Data successfully uploaded yo table {table_name}')"
   ]
  },
  {
   "cell_type": "code",
   "execution_count": null,
   "id": "682c6ceb-f573-4b66-8fec-d5d5a45081da",
   "metadata": {},
   "outputs": [],
   "source": []
  }
 ],
 "metadata": {
  "kernelspec": {
   "display_name": "Python 3 (ipykernel)",
   "language": "python",
   "name": "python3"
  },
  "language_info": {
   "codemirror_mode": {
    "name": "ipython",
    "version": 3
   },
   "file_extension": ".py",
   "mimetype": "text/x-python",
   "name": "python",
   "nbconvert_exporter": "python",
   "pygments_lexer": "ipython3",
   "version": "3.7.16"
  }
 },
 "nbformat": 4,
 "nbformat_minor": 5
}
