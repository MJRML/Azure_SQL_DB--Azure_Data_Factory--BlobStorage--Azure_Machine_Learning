{
  "cells": [
    {
      "cell_type": "markdown",
      "source": [
        "Logistic Regression model deployment"
      ],
      "metadata": {},
      "id": "6b8034f0-1ab4-4a5b-a562-c830cd269092"
    },
    {
      "cell_type": "markdown",
      "source": [
        "Decision Trees"
      ],
      "metadata": {},
      "id": "7414230c-d43a-49fd-880b-6c51965ed969"
    },
    {
      "cell_type": "markdown",
      "source": [
        "Import our dataset"
      ],
      "metadata": {},
      "id": "c119c5df-827e-4fe6-a700-c15ef0f93556"
    },
    {
      "cell_type": "code",
      "source": [
        "from azureml.core import Workspace\n",
        "\n",
        "# Connect to your Azure ML workspace\n",
        "workspace = Workspace.from_config()"
      ],
      "outputs": [],
      "execution_count": 2,
      "metadata": {
        "gather": {
          "logged": 1749018224764
        }
      },
      "id": "9cf900d2-a0ff-4835-8bc8-c6a18375564d"
    },
    {
      "cell_type": "code",
      "source": [
        "from azureml.core import Dataset\n",
        "\n",
        "# Retrieve the data asset by its name (e.g., 'my_data_asset')\n",
        "dataset = Dataset.get_by_name(workspace, name='Loan_dataset')"
      ],
      "outputs": [],
      "execution_count": 3,
      "metadata": {
        "gather": {
          "logged": 1749018226470
        }
      },
      "id": "5339a6dd-875a-41cf-a5c9-35d40737d16e"
    },
    {
      "cell_type": "code",
      "source": [
        "# Convert the dataset to a pandas DataFrame (if it is a tabular dataset)\n",
        "df = dataset.to_pandas_dataframe()\n",
        "\n",
        "# Display the first few rows of the DataFrame\n",
        "print(df.head())"
      ],
      "outputs": [],
      "execution_count": null,
      "metadata": {
        "gather": {
          "logged": 1749018274435
        }
      },
      "id": "cbf60e66-c77e-4b96-b8fe-d4c1e71890aa"
    },
    {
      "cell_type": "code",
      "source": [
        "import pandas as pd\n"
      ],
      "outputs": [],
      "execution_count": null,
      "metadata": {
        "gather": {
          "logged": 1749018250966
        }
      },
      "id": "3b2719e5-db8f-4955-b3dd-be62d77ceafe"
    },
    {
      "cell_type": "code",
      "source": [
        "df.head(10)"
      ],
      "outputs": [
        {
          "output_type": "execute_result",
          "execution_count": 6,
          "data": {
            "text/plain": "    Loan_ID Gender Married Dependents     Education Self_Employed  \\\n0  LP001002   Male   False          0      Graduate         False   \n1  LP001003   Male    True          1      Graduate         False   \n2  LP001005   Male    True          0      Graduate          True   \n3  LP001006   Male    True          0  Not Graduate         False   \n4  LP001008   Male   False          0      Graduate         False   \n5  LP001011   Male    True          2      Graduate          True   \n6  LP001013   Male    True          0  Not Graduate         False   \n7  LP001014   Male    True         3+      Graduate         False   \n8  LP001018   Male    True          2      Graduate         False   \n9  LP001020   Male    True          1      Graduate         False   \n\n   ApplicantIncome  CoapplicantIncome  LoanAmount  Loan_Amount_Term  \\\n0             5849                  0         NaN             360.0   \n1             4583               1508       128.0             360.0   \n2             3000                  0        66.0             360.0   \n3             2583               2358       120.0             360.0   \n4             6000                  0       141.0             360.0   \n5             5417               4196       267.0             360.0   \n6             2333               1516        95.0             360.0   \n7             3036               2504       158.0             360.0   \n8             4006               1526       168.0             360.0   \n9            12841              10968       349.0             360.0   \n\n   Credit_History Property_Area  Loan_Status  \n0             1.0         Urban         True  \n1             1.0         Rural        False  \n2             1.0         Urban         True  \n3             1.0         Urban         True  \n4             1.0         Urban         True  \n5             1.0         Urban         True  \n6             1.0         Urban         True  \n7             0.0     Semiurban        False  \n8             1.0         Urban         True  \n9             1.0     Semiurban        False  ",
            "text/html": "<div>\n<style scoped>\n    .dataframe tbody tr th:only-of-type {\n        vertical-align: middle;\n    }\n\n    .dataframe tbody tr th {\n        vertical-align: top;\n    }\n\n    .dataframe thead th {\n        text-align: right;\n    }\n</style>\n<table border=\"1\" class=\"dataframe\">\n  <thead>\n    <tr style=\"text-align: right;\">\n      <th></th>\n      <th>Loan_ID</th>\n      <th>Gender</th>\n      <th>Married</th>\n      <th>Dependents</th>\n      <th>Education</th>\n      <th>Self_Employed</th>\n      <th>ApplicantIncome</th>\n      <th>CoapplicantIncome</th>\n      <th>LoanAmount</th>\n      <th>Loan_Amount_Term</th>\n      <th>Credit_History</th>\n      <th>Property_Area</th>\n      <th>Loan_Status</th>\n    </tr>\n  </thead>\n  <tbody>\n    <tr>\n      <th>0</th>\n      <td>LP001002</td>\n      <td>Male</td>\n      <td>False</td>\n      <td>0</td>\n      <td>Graduate</td>\n      <td>False</td>\n      <td>5849</td>\n      <td>0</td>\n      <td>NaN</td>\n      <td>360.0</td>\n      <td>1.0</td>\n      <td>Urban</td>\n      <td>True</td>\n    </tr>\n    <tr>\n      <th>1</th>\n      <td>LP001003</td>\n      <td>Male</td>\n      <td>True</td>\n      <td>1</td>\n      <td>Graduate</td>\n      <td>False</td>\n      <td>4583</td>\n      <td>1508</td>\n      <td>128.0</td>\n      <td>360.0</td>\n      <td>1.0</td>\n      <td>Rural</td>\n      <td>False</td>\n    </tr>\n    <tr>\n      <th>2</th>\n      <td>LP001005</td>\n      <td>Male</td>\n      <td>True</td>\n      <td>0</td>\n      <td>Graduate</td>\n      <td>True</td>\n      <td>3000</td>\n      <td>0</td>\n      <td>66.0</td>\n      <td>360.0</td>\n      <td>1.0</td>\n      <td>Urban</td>\n      <td>True</td>\n    </tr>\n    <tr>\n      <th>3</th>\n      <td>LP001006</td>\n      <td>Male</td>\n      <td>True</td>\n      <td>0</td>\n      <td>Not Graduate</td>\n      <td>False</td>\n      <td>2583</td>\n      <td>2358</td>\n      <td>120.0</td>\n      <td>360.0</td>\n      <td>1.0</td>\n      <td>Urban</td>\n      <td>True</td>\n    </tr>\n    <tr>\n      <th>4</th>\n      <td>LP001008</td>\n      <td>Male</td>\n      <td>False</td>\n      <td>0</td>\n      <td>Graduate</td>\n      <td>False</td>\n      <td>6000</td>\n      <td>0</td>\n      <td>141.0</td>\n      <td>360.0</td>\n      <td>1.0</td>\n      <td>Urban</td>\n      <td>True</td>\n    </tr>\n    <tr>\n      <th>5</th>\n      <td>LP001011</td>\n      <td>Male</td>\n      <td>True</td>\n      <td>2</td>\n      <td>Graduate</td>\n      <td>True</td>\n      <td>5417</td>\n      <td>4196</td>\n      <td>267.0</td>\n      <td>360.0</td>\n      <td>1.0</td>\n      <td>Urban</td>\n      <td>True</td>\n    </tr>\n    <tr>\n      <th>6</th>\n      <td>LP001013</td>\n      <td>Male</td>\n      <td>True</td>\n      <td>0</td>\n      <td>Not Graduate</td>\n      <td>False</td>\n      <td>2333</td>\n      <td>1516</td>\n      <td>95.0</td>\n      <td>360.0</td>\n      <td>1.0</td>\n      <td>Urban</td>\n      <td>True</td>\n    </tr>\n    <tr>\n      <th>7</th>\n      <td>LP001014</td>\n      <td>Male</td>\n      <td>True</td>\n      <td>3+</td>\n      <td>Graduate</td>\n      <td>False</td>\n      <td>3036</td>\n      <td>2504</td>\n      <td>158.0</td>\n      <td>360.0</td>\n      <td>0.0</td>\n      <td>Semiurban</td>\n      <td>False</td>\n    </tr>\n    <tr>\n      <th>8</th>\n      <td>LP001018</td>\n      <td>Male</td>\n      <td>True</td>\n      <td>2</td>\n      <td>Graduate</td>\n      <td>False</td>\n      <td>4006</td>\n      <td>1526</td>\n      <td>168.0</td>\n      <td>360.0</td>\n      <td>1.0</td>\n      <td>Urban</td>\n      <td>True</td>\n    </tr>\n    <tr>\n      <th>9</th>\n      <td>LP001020</td>\n      <td>Male</td>\n      <td>True</td>\n      <td>1</td>\n      <td>Graduate</td>\n      <td>False</td>\n      <td>12841</td>\n      <td>10968</td>\n      <td>349.0</td>\n      <td>360.0</td>\n      <td>1.0</td>\n      <td>Semiurban</td>\n      <td>False</td>\n    </tr>\n  </tbody>\n</table>\n</div>"
          },
          "metadata": {}
        }
      ],
      "execution_count": 6,
      "metadata": {
        "gather": {
          "logged": 1748951027790
        }
      },
      "id": "44d90b6e-3aea-4ada-9fcf-08cdb6da31be"
    },
    {
      "cell_type": "markdown",
      "source": [
        "Exploring our Data"
      ],
      "metadata": {},
      "id": "832663a3-bd5c-4033-8d48-9a47ff105e83"
    },
    {
      "cell_type": "code",
      "source": [
        "df.columns"
      ],
      "outputs": [
        {
          "output_type": "execute_result",
          "execution_count": 7,
          "data": {
            "text/plain": "Index(['Loan_ID', 'Gender', 'Married', 'Dependents', 'Education',\n       'Self_Employed', 'ApplicantIncome', 'CoapplicantIncome', 'LoanAmount',\n       'Loan_Amount_Term', 'Credit_History', 'Property_Area', 'Loan_Status'],\n      dtype='object')"
          },
          "metadata": {}
        }
      ],
      "execution_count": 7,
      "metadata": {
        "gather": {
          "logged": 1748951030059
        }
      },
      "id": "df3b6eaf-c310-4e03-8af1-8b0efe5fefc8"
    },
    {
      "cell_type": "code",
      "source": [
        "df.info() #We have a lot of object data types which we will have to check and deal with later "
      ],
      "outputs": [
        {
          "output_type": "stream",
          "name": "stdout",
          "text": "<class 'pandas.core.frame.DataFrame'>\nRangeIndex: 614 entries, 0 to 613\nData columns (total 13 columns):\n #   Column             Non-Null Count  Dtype  \n---  ------             --------------  -----  \n 0   Loan_ID            614 non-null    object \n 1   Gender             601 non-null    object \n 2   Married            611 non-null    object \n 3   Dependents         599 non-null    object \n 4   Education          614 non-null    object \n 5   Self_Employed      582 non-null    object \n 6   ApplicantIncome    614 non-null    int64  \n 7   CoapplicantIncome  614 non-null    int64  \n 8   LoanAmount         592 non-null    float64\n 9   Loan_Amount_Term   600 non-null    float64\n 10  Credit_History     564 non-null    float64\n 11  Property_Area      614 non-null    object \n 12  Loan_Status        614 non-null    bool   \ndtypes: bool(1), float64(3), int64(2), object(7)\nmemory usage: 58.3+ KB\n"
        }
      ],
      "execution_count": 8,
      "metadata": {
        "gather": {
          "logged": 1748951031426
        }
      },
      "id": "6b7fc51a-d09a-4ec0-9b03-4fa117e357a5"
    },
    {
      "cell_type": "markdown",
      "source": [
        "Check for missing values"
      ],
      "metadata": {},
      "id": "f1822e92-4b24-426e-8bf3-bc56b7ed21bb"
    },
    {
      "cell_type": "code",
      "source": [
        "df.isnull().sum()"
      ],
      "outputs": [
        {
          "output_type": "execute_result",
          "execution_count": 9,
          "data": {
            "text/plain": "Loan_ID               0\nGender               13\nMarried               3\nDependents           15\nEducation             0\nSelf_Employed        32\nApplicantIncome       0\nCoapplicantIncome     0\nLoanAmount           22\nLoan_Amount_Term     14\nCredit_History       50\nProperty_Area         0\nLoan_Status           0\ndtype: int64"
          },
          "metadata": {}
        }
      ],
      "execution_count": 9,
      "metadata": {
        "gather": {
          "logged": 1748951033388
        }
      },
      "id": "2c5657e2-8dfc-466e-a8f8-585e0267d361"
    },
    {
      "cell_type": "code",
      "source": [
        "#check the shape of the data\n",
        "df.shape # the datset is not big, having 614 row and 13 columns - let's find away to deal with the missing data without removing - mode, mean, median"
      ],
      "outputs": [
        {
          "output_type": "execute_result",
          "execution_count": 10,
          "data": {
            "text/plain": "(614, 13)"
          },
          "metadata": {}
        }
      ],
      "execution_count": 10,
      "metadata": {
        "gather": {
          "logged": 1748951035095
        }
      },
      "id": "63a89048-eab7-4b6b-be23-472d364a918f"
    },
    {
      "cell_type": "code",
      "source": [
        "#Before we start working on the missing data, lets see what variables have a strong correlation with our dependent variable - 'Loan_Status'\n",
        "#If an indenpendent variable has little to no correlation with our target variable - we could possibly remove it and save us some time\n",
        "\n",
        "#import seaborn as sns #importing seaborn to access a heatmap\n",
        "#sns.heatmap(df.corr(),annot=True, cmap='RdYlGn') #The seaborn will only map the numerical variables - lets one hot encode out target variable to 0 for No and 1 for yes"
      ],
      "outputs": [],
      "execution_count": 11,
      "metadata": {
        "gather": {
          "logged": 1748951037089
        }
      },
      "id": "63783cf7-8f8a-4419-a8aa-89a3408a59ad"
    },
    {
      "cell_type": "code",
      "source": [
        "df['Loan_Status'].value_counts()"
      ],
      "outputs": [
        {
          "output_type": "execute_result",
          "execution_count": 12,
          "data": {
            "text/plain": "Loan_Status\nTrue     422\nFalse    192\nName: count, dtype: int64"
          },
          "metadata": {}
        }
      ],
      "execution_count": 12,
      "metadata": {
        "gather": {
          "logged": 1748951039131
        }
      },
      "id": "a77d4629-90d8-4790-a82f-cd81cad9c4ac"
    },
    {
      "cell_type": "code",
      "source": [
        "vmap = {False:0, True:1} \n",
        "\n",
        "df['Loan_Status'] = df['Loan_Status'].map(vmap) #Mapping 0 to 'No' and 1 to 'Y'"
      ],
      "outputs": [],
      "execution_count": 13,
      "metadata": {
        "gather": {
          "logged": 1748951040543
        }
      },
      "id": "36dbf15c-76b4-40b1-9495-3d807de97143"
    },
    {
      "cell_type": "code",
      "source": [
        "df['Loan_Status'].head()"
      ],
      "outputs": [
        {
          "output_type": "execute_result",
          "execution_count": 14,
          "data": {
            "text/plain": "0    1\n1    0\n2    1\n3    1\n4    1\nName: Loan_Status, dtype: int64"
          },
          "metadata": {}
        }
      ],
      "execution_count": 14,
      "metadata": {
        "gather": {
          "logged": 1748951042244
        }
      },
      "id": "4701ee84-78d3-46c6-89f2-fad2075c41bc"
    },
    {
      "cell_type": "code",
      "source": [
        "#Let's check Loan_Status dtype\n",
        "df['Loan_Status'].dtype"
      ],
      "outputs": [
        {
          "output_type": "execute_result",
          "execution_count": 15,
          "data": {
            "text/plain": "dtype('int64')"
          },
          "metadata": {}
        }
      ],
      "execution_count": 15,
      "metadata": {
        "gather": {
          "logged": 1748951043804
        }
      },
      "id": "610496ad-8684-4c52-a456-717d955f1f24"
    },
    {
      "cell_type": "code",
      "source": [
        "#Now that Loan_Status is a integer, lets run seaborn again\n",
        "#sns.heatmap(df.corr(),annot=True, cmap='RdYlGn')"
      ],
      "outputs": [],
      "execution_count": 16,
      "metadata": {
        "gather": {
          "logged": 1748951044865
        }
      },
      "id": "5e624c70-bea5-41dc-b401-c0078b73f620"
    },
    {
      "cell_type": "markdown",
      "source": [
        "Let's start dealing with the missing values in our dataset and check for outliers"
      ],
      "metadata": {},
      "id": "59c408ad-dd59-44ac-b0ce-14df18afa9c5"
    },
    {
      "cell_type": "code",
      "source": [
        "#Gender is missing 13 values\n",
        "df['Gender'].value_counts() \n",
        "\n",
        "# we can see that there is 4 to 1 split in favour of male applicants - so we can use mode, mean is not an option as we will be mapping the genders to 0 or 1"
      ],
      "outputs": [
        {
          "output_type": "execute_result",
          "execution_count": 17,
          "data": {
            "text/plain": "Gender\nMale      489\nFemale    112\nName: count, dtype: int64"
          },
          "metadata": {}
        }
      ],
      "execution_count": 17,
      "metadata": {
        "gather": {
          "logged": 1748951046620
        }
      },
      "id": "494555ca-685e-44a7-bee1-39368b868c82"
    },
    {
      "cell_type": "code",
      "source": [
        "df['Gender'] = df['Gender'].fillna(df['Gender'].mode()[0])"
      ],
      "outputs": [],
      "execution_count": 18,
      "metadata": {
        "gather": {
          "logged": 1748951048179
        }
      },
      "id": "2f4182ed-8ffb-4d9a-b2de-4606399bdf74"
    },
    {
      "cell_type": "code",
      "source": [
        "df['Gender'].isnull().sum()"
      ],
      "outputs": [
        {
          "output_type": "execute_result",
          "execution_count": 19,
          "data": {
            "text/plain": "0"
          },
          "metadata": {}
        }
      ],
      "execution_count": 19,
      "metadata": {
        "gather": {
          "logged": 1748951050380
        }
      },
      "id": "258888d9-05f9-499b-a386-5cce13b7439a"
    },
    {
      "cell_type": "code",
      "source": [
        "#Drop loan_ID as this will have no impact on our result\n",
        "df.drop('Loan_ID',axis=1,inplace=True) # high cardinality"
      ],
      "outputs": [],
      "execution_count": 20,
      "metadata": {
        "gather": {
          "logged": 1748951051336
        }
      },
      "id": "13c57e4f-01c3-4eed-9a36-293ee046700d"
    },
    {
      "cell_type": "code",
      "source": [
        "df.shape"
      ],
      "outputs": [
        {
          "output_type": "execute_result",
          "execution_count": 21,
          "data": {
            "text/plain": "(614, 12)"
          },
          "metadata": {}
        }
      ],
      "execution_count": 21,
      "metadata": {
        "gather": {
          "logged": 1748951052575
        }
      },
      "id": "175c8d17-fbd3-44cc-b27f-94657f087058"
    },
    {
      "cell_type": "code",
      "source": [
        "#Let's check the married Independent variable with 3 missing data entrys\n",
        "df['Married'].value_counts()"
      ],
      "outputs": [
        {
          "output_type": "execute_result",
          "execution_count": 22,
          "data": {
            "text/plain": "Married\nTrue     398\nFalse    213\nName: count, dtype: int64"
          },
          "metadata": {}
        }
      ],
      "execution_count": 22,
      "metadata": {
        "gather": {
          "logged": 1748951053686
        }
      },
      "id": "e47c3ee4-ca1a-4e90-b2d9-1732e461417c"
    },
    {
      "cell_type": "code",
      "source": [
        "df['Married'].head(10)"
      ],
      "outputs": [
        {
          "output_type": "execute_result",
          "execution_count": 23,
          "data": {
            "text/plain": "0    False\n1     True\n2     True\n3     True\n4    False\n5     True\n6     True\n7     True\n8     True\n9     True\nName: Married, dtype: object"
          },
          "metadata": {}
        }
      ],
      "execution_count": 23,
      "metadata": {
        "gather": {
          "logged": 1748951054974
        }
      },
      "id": "5e8fb1d9-2833-496d-a627-cbfafaac8cb7"
    },
    {
      "cell_type": "code",
      "source": [
        "#Let's drop NaN rows for Married\n",
        "df.dropna(subset=['Married'],inplace=True)"
      ],
      "outputs": [],
      "execution_count": 24,
      "metadata": {
        "gather": {
          "logged": 1748951056006
        }
      },
      "id": "844c0ae3-b171-4e0b-8feb-1765aae49ca7"
    },
    {
      "cell_type": "code",
      "source": [
        "df['Married'].isnull().sum() #Now we have no missing values"
      ],
      "outputs": [
        {
          "output_type": "execute_result",
          "execution_count": 25,
          "data": {
            "text/plain": "0"
          },
          "metadata": {}
        }
      ],
      "execution_count": 25,
      "metadata": {
        "gather": {
          "logged": 1748951057591
        }
      },
      "id": "cd4b57e6-2140-431a-8c11-851ca5375daa"
    },
    {
      "cell_type": "code",
      "source": [
        "#Lets map 'No' to 0 and \"Yes' to 1 for the aried indepdendent variable\n",
        "mmap = {False:0, True:1} \n",
        "\n",
        "df['Married'] = df['Married'].map(mmap) #Mapping 0 to 'No' and 1 to 'Y'"
      ],
      "outputs": [],
      "execution_count": 26,
      "metadata": {
        "gather": {
          "logged": 1748951058751
        }
      },
      "id": "e5172e46-0c82-4b4c-99c7-59e09ac44402"
    },
    {
      "cell_type": "code",
      "source": [
        "df['Married'].head()"
      ],
      "outputs": [
        {
          "output_type": "execute_result",
          "execution_count": 27,
          "data": {
            "text/plain": "0    0\n1    1\n2    1\n3    1\n4    0\nName: Married, dtype: int64"
          },
          "metadata": {}
        }
      ],
      "execution_count": 27,
      "metadata": {
        "gather": {
          "logged": 1748951060427
        }
      },
      "id": "8f4e7fa5-f949-488e-8c3e-1f047e720f97"
    },
    {
      "cell_type": "code",
      "source": [
        "#sns.heatmap(df.corr(),annot=True, cmap='RdYlGn') #lets run a heatmap coorelation again to check if we should keep married independent variable"
      ],
      "outputs": [],
      "execution_count": 28,
      "metadata": {
        "gather": {
          "logged": 1748951062226
        }
      },
      "id": "fc91ce7c-370b-47e9-8ff4-d4190ca4b583"
    },
    {
      "cell_type": "code",
      "source": [
        "#Okay whats next - lets check the total NaN values\n",
        "df.isnull().sum()"
      ],
      "outputs": [
        {
          "output_type": "execute_result",
          "execution_count": 29,
          "data": {
            "text/plain": "Gender                0\nMarried               0\nDependents           12\nEducation             0\nSelf_Employed        32\nApplicantIncome       0\nCoapplicantIncome     0\nLoanAmount           21\nLoan_Amount_Term     14\nCredit_History       50\nProperty_Area         0\nLoan_Status           0\ndtype: int64"
          },
          "metadata": {}
        }
      ],
      "execution_count": 29,
      "metadata": {
        "gather": {
          "logged": 1748951063351
        }
      },
      "id": "f03df3f2-0cc5-4646-a413-834c748640cf"
    },
    {
      "cell_type": "code",
      "source": [
        "df['Married'].value_counts()"
      ],
      "outputs": [
        {
          "output_type": "execute_result",
          "execution_count": 30,
          "data": {
            "text/plain": "Married\n1    398\n0    213\nName: count, dtype: int64"
          },
          "metadata": {}
        }
      ],
      "execution_count": 30,
      "metadata": {
        "gather": {
          "logged": 1748951064215
        }
      },
      "id": "a7ab1e13-5529-4975-8cd4-6b0f0ccae2e5"
    },
    {
      "cell_type": "code",
      "source": [
        "#Now on to Dependents variable\n",
        "df['Dependents'].isnull().sum()"
      ],
      "outputs": [
        {
          "output_type": "execute_result",
          "execution_count": 31,
          "data": {
            "text/plain": "12"
          },
          "metadata": {}
        }
      ],
      "execution_count": 31,
      "metadata": {
        "gather": {
          "logged": 1748951065130
        }
      },
      "id": "fff46c0e-b899-42dd-ac61-ea74d84977f7"
    },
    {
      "cell_type": "code",
      "source": [
        "df['Dependents'].value_counts()"
      ],
      "outputs": [
        {
          "output_type": "execute_result",
          "execution_count": 32,
          "data": {
            "text/plain": "Dependents\n0     345\n1     102\n2     101\n3+     51\nName: count, dtype: int64"
          },
          "metadata": {}
        }
      ],
      "execution_count": 32,
      "metadata": {
        "gather": {
          "logged": 1748951066060
        }
      },
      "id": "26315a5f-3f78-4753-87d9-2865055c935f"
    },
    {
      "cell_type": "code",
      "source": [
        "df['Dependents'].head(15) #print the first 5 rows - Note: this variable is an object data type"
      ],
      "outputs": [
        {
          "output_type": "execute_result",
          "execution_count": 33,
          "data": {
            "text/plain": "0      0\n1      1\n2      0\n3      0\n4      0\n5      2\n6      0\n7     3+\n8      2\n9      1\n10     2\n11     2\n12     2\n13     0\n14     2\nName: Dependents, dtype: object"
          },
          "metadata": {}
        }
      ],
      "execution_count": 33,
      "metadata": {
        "gather": {
          "logged": 1748951066992
        }
      },
      "id": "844ce82e-0d62-4653-b01a-a5327fd1667b"
    },
    {
      "cell_type": "code",
      "source": [
        "#Before we convert our Dependents column - we must deal with the 3+ values\n",
        "#if we have convert our 3+ now to an interger they will show as a NaN value and get mixed in with our current NaN values\n",
        "#We will change our '3+' entries to 99\n",
        "df['Dependents'] = df['Dependents'].replace('3+','99')"
      ],
      "outputs": [],
      "execution_count": 34,
      "metadata": {
        "gather": {
          "logged": 1748951067749
        }
      },
      "id": "e3418de6-832f-494b-a94b-6de756a7d718"
    },
    {
      "cell_type": "code",
      "source": [
        "#Let's convert the column Dependents to an integer\n",
        "#Converting an object column with NaN values to integers can be a bit tricky when using pandas - we use a nulaable integer type\n",
        "#Numpy inetgers like int6464 do not support NaN values.\n",
        "df['Dependents'] = pd.to_numeric(df['Dependents'], errors='coerce').astype('Int64')"
      ],
      "outputs": [],
      "execution_count": 35,
      "metadata": {
        "gather": {
          "logged": 1748951069317
        }
      },
      "id": "110a7d2b-4cdd-4b33-896a-ec83ca985291"
    },
    {
      "cell_type": "code",
      "source": [
        "#df['Dependents'] = df['Dependents'].astype(int)\n",
        "\n",
        "#I have tried changing the data type to an int but 3+ will cause an issue\n",
        "#I will try map the 3+ value to a random list between 4 and 8 assign these values\n",
        "#23 can see the 99 which we changed in previous code\n",
        "df['Dependents'].head(10)"
      ],
      "outputs": [
        {
          "output_type": "execute_result",
          "execution_count": 36,
          "data": {
            "text/plain": "0     0\n1     1\n2     0\n3     0\n4     0\n5     2\n6     0\n7    99\n8     2\n9     1\nName: Dependents, dtype: Int64"
          },
          "metadata": {}
        }
      ],
      "execution_count": 36,
      "metadata": {
        "gather": {
          "logged": 1748951070833
        }
      },
      "id": "cc50c7c7-feaf-42fd-b23a-bfe5e2b68b61"
    },
    {
      "cell_type": "code",
      "source": [
        "df['Dependents'].isnull().sum() #after converting the Dependents column we have 60 NaN values which represent our 3+"
      ],
      "outputs": [
        {
          "output_type": "execute_result",
          "execution_count": 37,
          "data": {
            "text/plain": "12"
          },
          "metadata": {}
        }
      ],
      "execution_count": 37,
      "metadata": {
        "gather": {
          "logged": 1748951072448
        }
      },
      "id": "9fd4c81c-07b6-46f9-945f-10989419c947"
    },
    {
      "cell_type": "code",
      "source": [
        "#I want to fill the mean missing values with the mean but I first want to replace by 3+ values with a random number between 3 and 8\n",
        "\n",
        "import random #importing random module to use for randoming choosing a number between 3 and 8\n",
        "\n",
        "df['Dependents'] = df['Dependents'].apply(\n",
        "    lambda x: (random.randint(3,9)) if not pd.isna(x) and x == 99 else x # if not pd.isna(x) -  checks is value is not a NaN and where x = 99\n",
        ")"
      ],
      "outputs": [],
      "execution_count": 38,
      "metadata": {
        "gather": {
          "logged": 1748951073812
        }
      },
      "id": "e40d61ed-c8d6-4e2b-ad7f-c339bd925be4"
    },
    {
      "cell_type": "code",
      "source": [
        "df['Dependents'].head(10) #We can see our 3+ entries have been changed to a random int between 3 and 8"
      ],
      "outputs": [
        {
          "output_type": "execute_result",
          "execution_count": 39,
          "data": {
            "text/plain": "0    0.0\n1    1.0\n2    0.0\n3    0.0\n4    0.0\n5    2.0\n6    0.0\n7    3.0\n8    2.0\n9    1.0\nName: Dependents, dtype: float64"
          },
          "metadata": {}
        }
      ],
      "execution_count": 39,
      "metadata": {
        "gather": {
          "logged": 1748951075001
        }
      },
      "id": "d742603c-3019-4da8-8543-742d39898964"
    },
    {
      "cell_type": "code",
      "source": [
        "df['Dependents'] = pd.to_numeric(df['Dependents'], errors='coerce').astype('Int64') #for some reason the df['Dependents'] is still showing as dtype: object - let's change that"
      ],
      "outputs": [],
      "execution_count": 40,
      "metadata": {
        "gather": {
          "logged": 1748951076369
        }
      },
      "id": "a78691c4-e220-4d60-87d9-16f961c1342a"
    },
    {
      "cell_type": "code",
      "source": [
        "df['Dependents'].dtype"
      ],
      "outputs": [
        {
          "output_type": "execute_result",
          "execution_count": 41,
          "data": {
            "text/plain": "Int64Dtype()"
          },
          "metadata": {}
        }
      ],
      "execution_count": 41,
      "metadata": {
        "gather": {
          "logged": 1748951077559
        }
      },
      "id": "cb931dc2-18f7-4284-b1dc-ea140aae5300"
    },
    {
      "cell_type": "code",
      "source": [
        "df['Dependents'].head(10)"
      ],
      "outputs": [
        {
          "output_type": "execute_result",
          "execution_count": 42,
          "data": {
            "text/plain": "0    0\n1    1\n2    0\n3    0\n4    0\n5    2\n6    0\n7    3\n8    2\n9    1\nName: Dependents, dtype: Int64"
          },
          "metadata": {}
        }
      ],
      "execution_count": 42,
      "metadata": {
        "gather": {
          "logged": 1748951078440
        }
      },
      "id": "51f8f176-3493-46a3-9a92-12405ab1ee71"
    },
    {
      "cell_type": "code",
      "source": [
        "#fill the missing values with the mean\n",
        "#df['Dependents'] = df['Dependents'].fillna(df['Dependents'].mean())\n",
        "\n",
        "#I get an error runing the code above so I will use the round method and change the data type\n",
        "# Fill NaNs with the mean, rounded to nearest whole number\n",
        "mean_val = round(df['Dependents'].mean())\n",
        "df['Dependents'] = df['Dependents'].fillna(mean_val)\n",
        "\n",
        "# Convert to int64\n",
        "df['Dependents'] = df['Dependents'].astype('int64')"
      ],
      "outputs": [],
      "execution_count": 43,
      "metadata": {
        "gather": {
          "logged": 1748951079300
        }
      },
      "id": "239c7d6f-65fb-4d40-bdbf-cbab8e1de90b"
    },
    {
      "cell_type": "code",
      "source": [
        "#check for Null values\n",
        "df.isnull().sum()"
      ],
      "outputs": [
        {
          "output_type": "execute_result",
          "execution_count": 44,
          "data": {
            "text/plain": "Gender                0\nMarried               0\nDependents            0\nEducation             0\nSelf_Employed        32\nApplicantIncome       0\nCoapplicantIncome     0\nLoanAmount           21\nLoan_Amount_Term     14\nCredit_History       50\nProperty_Area         0\nLoan_Status           0\ndtype: int64"
          },
          "metadata": {}
        }
      ],
      "execution_count": 44,
      "metadata": {
        "gather": {
          "logged": 1748951080805
        }
      },
      "id": "9e10b6e9-e17a-4038-a7d8-5781200c0317"
    },
    {
      "cell_type": "code",
      "source": [
        "df.info()"
      ],
      "outputs": [
        {
          "output_type": "stream",
          "name": "stdout",
          "text": "<class 'pandas.core.frame.DataFrame'>\nIndex: 611 entries, 0 to 613\nData columns (total 12 columns):\n #   Column             Non-Null Count  Dtype  \n---  ------             --------------  -----  \n 0   Gender             611 non-null    object \n 1   Married            611 non-null    int64  \n 2   Dependents         611 non-null    int64  \n 3   Education          611 non-null    object \n 4   Self_Employed      579 non-null    object \n 5   ApplicantIncome    611 non-null    int64  \n 6   CoapplicantIncome  611 non-null    int64  \n 7   LoanAmount         590 non-null    float64\n 8   Loan_Amount_Term   597 non-null    float64\n 9   Credit_History     561 non-null    float64\n 10  Property_Area      611 non-null    object \n 11  Loan_Status        611 non-null    int64  \ndtypes: float64(3), int64(5), object(4)\nmemory usage: 62.1+ KB\n"
        }
      ],
      "execution_count": 45,
      "metadata": {
        "gather": {
          "logged": 1748951081847
        }
      },
      "id": "efcf436f-c5f1-411d-b463-29699d7f4bdf"
    },
    {
      "cell_type": "code",
      "source": [
        "#Now we will work on the Self_employed 32 missing values\n",
        "df['Self_Employed'].value_counts()"
      ],
      "outputs": [
        {
          "output_type": "execute_result",
          "execution_count": 46,
          "data": {
            "text/plain": "Self_Employed\nFalse    497\nTrue      82\nName: count, dtype: int64"
          },
          "metadata": {}
        }
      ],
      "execution_count": 46,
      "metadata": {
        "gather": {
          "logged": 1748951082812
        }
      },
      "id": "1150c242-7942-4b73-955e-ae2257f7434c"
    },
    {
      "cell_type": "code",
      "source": [
        "semap = {False:0, True:1} \n",
        "\n",
        "df['Self_Employed'] = df['Self_Employed'].map(semap) #Mapping 0 to 'No' and 1 to 'Y'"
      ],
      "outputs": [],
      "execution_count": 47,
      "metadata": {
        "gather": {
          "logged": 1748951083873
        }
      },
      "id": "c2e97646-ee75-4895-bc80-9be59b9fbdb1"
    },
    {
      "cell_type": "code",
      "source": [
        "#I will fill the missing values in the self_employedd column with the mode - as the majority of entries are 'No'\n",
        "df['Self_Employed'] = df['Self_Employed'].fillna(df['Self_Employed'].mode()[0])\n",
        "\n",
        "df.head()"
      ],
      "outputs": [
        {
          "output_type": "execute_result",
          "execution_count": 48,
          "data": {
            "text/plain": "  Gender  Married  Dependents     Education  Self_Employed  ApplicantIncome  \\\n0   Male        0           0      Graduate            0.0             5849   \n1   Male        1           1      Graduate            0.0             4583   \n2   Male        1           0      Graduate            1.0             3000   \n3   Male        1           0  Not Graduate            0.0             2583   \n4   Male        0           0      Graduate            0.0             6000   \n\n   CoapplicantIncome  LoanAmount  Loan_Amount_Term  Credit_History  \\\n0                  0         NaN             360.0             1.0   \n1               1508       128.0             360.0             1.0   \n2                  0        66.0             360.0             1.0   \n3               2358       120.0             360.0             1.0   \n4                  0       141.0             360.0             1.0   \n\n  Property_Area  Loan_Status  \n0         Urban            1  \n1         Rural            0  \n2         Urban            1  \n3         Urban            1  \n4         Urban            1  ",
            "text/html": "<div>\n<style scoped>\n    .dataframe tbody tr th:only-of-type {\n        vertical-align: middle;\n    }\n\n    .dataframe tbody tr th {\n        vertical-align: top;\n    }\n\n    .dataframe thead th {\n        text-align: right;\n    }\n</style>\n<table border=\"1\" class=\"dataframe\">\n  <thead>\n    <tr style=\"text-align: right;\">\n      <th></th>\n      <th>Gender</th>\n      <th>Married</th>\n      <th>Dependents</th>\n      <th>Education</th>\n      <th>Self_Employed</th>\n      <th>ApplicantIncome</th>\n      <th>CoapplicantIncome</th>\n      <th>LoanAmount</th>\n      <th>Loan_Amount_Term</th>\n      <th>Credit_History</th>\n      <th>Property_Area</th>\n      <th>Loan_Status</th>\n    </tr>\n  </thead>\n  <tbody>\n    <tr>\n      <th>0</th>\n      <td>Male</td>\n      <td>0</td>\n      <td>0</td>\n      <td>Graduate</td>\n      <td>0.0</td>\n      <td>5849</td>\n      <td>0</td>\n      <td>NaN</td>\n      <td>360.0</td>\n      <td>1.0</td>\n      <td>Urban</td>\n      <td>1</td>\n    </tr>\n    <tr>\n      <th>1</th>\n      <td>Male</td>\n      <td>1</td>\n      <td>1</td>\n      <td>Graduate</td>\n      <td>0.0</td>\n      <td>4583</td>\n      <td>1508</td>\n      <td>128.0</td>\n      <td>360.0</td>\n      <td>1.0</td>\n      <td>Rural</td>\n      <td>0</td>\n    </tr>\n    <tr>\n      <th>2</th>\n      <td>Male</td>\n      <td>1</td>\n      <td>0</td>\n      <td>Graduate</td>\n      <td>1.0</td>\n      <td>3000</td>\n      <td>0</td>\n      <td>66.0</td>\n      <td>360.0</td>\n      <td>1.0</td>\n      <td>Urban</td>\n      <td>1</td>\n    </tr>\n    <tr>\n      <th>3</th>\n      <td>Male</td>\n      <td>1</td>\n      <td>0</td>\n      <td>Not Graduate</td>\n      <td>0.0</td>\n      <td>2583</td>\n      <td>2358</td>\n      <td>120.0</td>\n      <td>360.0</td>\n      <td>1.0</td>\n      <td>Urban</td>\n      <td>1</td>\n    </tr>\n    <tr>\n      <th>4</th>\n      <td>Male</td>\n      <td>0</td>\n      <td>0</td>\n      <td>Graduate</td>\n      <td>0.0</td>\n      <td>6000</td>\n      <td>0</td>\n      <td>141.0</td>\n      <td>360.0</td>\n      <td>1.0</td>\n      <td>Urban</td>\n      <td>1</td>\n    </tr>\n  </tbody>\n</table>\n</div>"
          },
          "metadata": {}
        }
      ],
      "execution_count": 48,
      "metadata": {
        "gather": {
          "logged": 1748951085122
        }
      },
      "id": "4c7dc5ea-e2fe-4bc4-a639-2fe1c69947cf"
    },
    {
      "cell_type": "code",
      "source": [
        "df['Self_Employed'] = df['Self_Employed'].astype(int)"
      ],
      "outputs": [],
      "execution_count": 49,
      "metadata": {
        "gather": {
          "logged": 1748951086748
        }
      },
      "id": "f7d10422-72f0-4366-ad6e-c51112b82fe9"
    },
    {
      "cell_type": "code",
      "source": [
        "df['Self_Employed'].isnull().sum() #no missing values"
      ],
      "outputs": [
        {
          "output_type": "execute_result",
          "execution_count": 50,
          "data": {
            "text/plain": "0"
          },
          "metadata": {}
        }
      ],
      "execution_count": 50,
      "metadata": {
        "gather": {
          "logged": 1748951089374
        }
      },
      "id": "c2ccbd25-df46-49c2-bd56-43b31dabca4d"
    },
    {
      "cell_type": "code",
      "source": [
        "df['Self_Employed'].head(10)"
      ],
      "outputs": [
        {
          "output_type": "execute_result",
          "execution_count": 51,
          "data": {
            "text/plain": "0    0\n1    0\n2    1\n3    0\n4    0\n5    1\n6    0\n7    0\n8    0\n9    0\nName: Self_Employed, dtype: int64"
          },
          "metadata": {}
        }
      ],
      "execution_count": 51,
      "metadata": {
        "gather": {
          "logged": 1748951091457
        }
      },
      "id": "ef336928-dd0c-4878-ba3c-a7c0c59f012f"
    },
    {
      "cell_type": "code",
      "source": [
        "#sns.heatmap(df.corr(),annot=True, cmap='RdYlGn')"
      ],
      "outputs": [],
      "execution_count": 52,
      "metadata": {
        "gather": {
          "logged": 1748951094499
        }
      },
      "id": "44e6dac3-f8fc-4a5c-b6b9-3d4c80b0665a"
    },
    {
      "cell_type": "code",
      "source": [
        "#Checking missing values now in our dataset\n",
        "df.isnull().sum()"
      ],
      "outputs": [
        {
          "output_type": "execute_result",
          "execution_count": 53,
          "data": {
            "text/plain": "Gender                0\nMarried               0\nDependents            0\nEducation             0\nSelf_Employed         0\nApplicantIncome       0\nCoapplicantIncome     0\nLoanAmount           21\nLoan_Amount_Term     14\nCredit_History       50\nProperty_Area         0\nLoan_Status           0\ndtype: int64"
          },
          "metadata": {}
        }
      ],
      "execution_count": 53,
      "metadata": {
        "gather": {
          "logged": 1748951097912
        }
      },
      "id": "f520e63b-0751-4689-ad8e-c30854380b4b"
    },
    {
      "cell_type": "code",
      "source": [
        "df.info()"
      ],
      "outputs": [
        {
          "output_type": "stream",
          "name": "stdout",
          "text": "<class 'pandas.core.frame.DataFrame'>\nIndex: 611 entries, 0 to 613\nData columns (total 12 columns):\n #   Column             Non-Null Count  Dtype  \n---  ------             --------------  -----  \n 0   Gender             611 non-null    object \n 1   Married            611 non-null    int64  \n 2   Dependents         611 non-null    int64  \n 3   Education          611 non-null    object \n 4   Self_Employed      611 non-null    int64  \n 5   ApplicantIncome    611 non-null    int64  \n 6   CoapplicantIncome  611 non-null    int64  \n 7   LoanAmount         590 non-null    float64\n 8   Loan_Amount_Term   597 non-null    float64\n 9   Credit_History     561 non-null    float64\n 10  Property_Area      611 non-null    object \n 11  Loan_Status        611 non-null    int64  \ndtypes: float64(3), int64(6), object(3)\nmemory usage: 62.1+ KB\n"
        }
      ],
      "execution_count": 54,
      "metadata": {
        "gather": {
          "logged": 1748951099616
        }
      },
      "id": "6a8e6680-6e7b-43a3-b712-586b08ef0352"
    },
    {
      "cell_type": "code",
      "source": [
        "df['Loan_Amount_Term'].value_counts()"
      ],
      "outputs": [
        {
          "output_type": "execute_result",
          "execution_count": 55,
          "data": {
            "text/plain": "Loan_Amount_Term\n360.0    511\n180.0     44\n480.0     14\n300.0     13\n84.0       4\n120.0      3\n240.0      3\n60.0       2\n36.0       2\n12.0       1\nName: count, dtype: int64"
          },
          "metadata": {}
        }
      ],
      "execution_count": 55,
      "metadata": {
        "gather": {
          "logged": 1748951101551
        }
      },
      "id": "9eaffc4e-d6c0-4452-8eaf-560ba7aee0b1"
    },
    {
      "cell_type": "code",
      "source": [
        "#Majority of entries are 360.0 so we will replace all NaN entires with 360.0\n",
        "#I could use mean but we have only 14 missing values so I will replace the NaN entries with mode\n",
        "\n",
        "df['Loan_Amount_Term'] = df['Loan_Amount_Term'].fillna(360.0).astype(float)"
      ],
      "outputs": [],
      "execution_count": 56,
      "metadata": {
        "gather": {
          "logged": 1748951103954
        }
      },
      "id": "04db6279-e47e-4ae6-bd73-701a3e23e8a9"
    },
    {
      "cell_type": "code",
      "source": [
        "df['Loan_Amount_Term'].isnull().sum()"
      ],
      "outputs": [
        {
          "output_type": "execute_result",
          "execution_count": 57,
          "data": {
            "text/plain": "0"
          },
          "metadata": {}
        }
      ],
      "execution_count": 57,
      "metadata": {
        "gather": {
          "logged": 1748951107211
        }
      },
      "id": "000e778a-520d-46c5-97c8-9fc292394a6b"
    },
    {
      "cell_type": "code",
      "source": [
        "df['Loan_Amount_Term'].value_counts()"
      ],
      "outputs": [
        {
          "output_type": "execute_result",
          "execution_count": 58,
          "data": {
            "text/plain": "Loan_Amount_Term\n360.0    525\n180.0     44\n480.0     14\n300.0     13\n84.0       4\n120.0      3\n240.0      3\n60.0       2\n36.0       2\n12.0       1\nName: count, dtype: int64"
          },
          "metadata": {}
        }
      ],
      "execution_count": 58,
      "metadata": {
        "gather": {
          "logged": 1748951109860
        }
      },
      "id": "046d3202-1bee-4e24-a61c-78b16a3db5e1"
    },
    {
      "cell_type": "code",
      "source": [
        "df.isnull().sum()"
      ],
      "outputs": [
        {
          "output_type": "execute_result",
          "execution_count": 59,
          "data": {
            "text/plain": "Gender                0\nMarried               0\nDependents            0\nEducation             0\nSelf_Employed         0\nApplicantIncome       0\nCoapplicantIncome     0\nLoanAmount           21\nLoan_Amount_Term      0\nCredit_History       50\nProperty_Area         0\nLoan_Status           0\ndtype: int64"
          },
          "metadata": {}
        }
      ],
      "execution_count": 59,
      "metadata": {
        "gather": {
          "logged": 1748951114613
        }
      },
      "id": "fd399a18-44b5-48f7-99e1-9c727a988414"
    },
    {
      "cell_type": "code",
      "source": [
        "#Replacing 'LoanAmount'\n",
        "df['LoanAmount'].value_counts()"
      ],
      "outputs": [
        {
          "output_type": "execute_result",
          "execution_count": 60,
          "data": {
            "text/plain": "LoanAmount\n120.0    20\n110.0    17\n100.0    15\n187.0    12\n128.0    11\n         ..\n240.0     1\n214.0     1\n59.0      1\n166.0     1\n253.0     1\nName: count, Length: 203, dtype: int64"
          },
          "metadata": {}
        }
      ],
      "execution_count": 60,
      "metadata": {
        "gather": {
          "logged": 1748951115922
        }
      },
      "id": "99dd8ba2-baa4-44b2-8368-137ce4557cb8"
    },
    {
      "cell_type": "code",
      "source": [
        "#Here I will replace the NaN with the mean\n",
        "df['LoanAmount'] = df['LoanAmount'].fillna(df['LoanAmount'].mean())\n",
        "\n",
        "df['LoanAmount'] = df['LoanAmount'].round() #rounding all numbers"
      ],
      "outputs": [],
      "execution_count": 61,
      "metadata": {
        "gather": {
          "logged": 1748951117285
        }
      },
      "id": "6407c3ba-e76a-4828-a36c-721d4e83e410"
    },
    {
      "cell_type": "code",
      "source": [
        "df.head()"
      ],
      "outputs": [
        {
          "output_type": "execute_result",
          "execution_count": 62,
          "data": {
            "text/plain": "  Gender  Married  Dependents     Education  Self_Employed  ApplicantIncome  \\\n0   Male        0           0      Graduate              0             5849   \n1   Male        1           1      Graduate              0             4583   \n2   Male        1           0      Graduate              1             3000   \n3   Male        1           0  Not Graduate              0             2583   \n4   Male        0           0      Graduate              0             6000   \n\n   CoapplicantIncome  LoanAmount  Loan_Amount_Term  Credit_History  \\\n0                  0       146.0             360.0             1.0   \n1               1508       128.0             360.0             1.0   \n2                  0        66.0             360.0             1.0   \n3               2358       120.0             360.0             1.0   \n4                  0       141.0             360.0             1.0   \n\n  Property_Area  Loan_Status  \n0         Urban            1  \n1         Rural            0  \n2         Urban            1  \n3         Urban            1  \n4         Urban            1  ",
            "text/html": "<div>\n<style scoped>\n    .dataframe tbody tr th:only-of-type {\n        vertical-align: middle;\n    }\n\n    .dataframe tbody tr th {\n        vertical-align: top;\n    }\n\n    .dataframe thead th {\n        text-align: right;\n    }\n</style>\n<table border=\"1\" class=\"dataframe\">\n  <thead>\n    <tr style=\"text-align: right;\">\n      <th></th>\n      <th>Gender</th>\n      <th>Married</th>\n      <th>Dependents</th>\n      <th>Education</th>\n      <th>Self_Employed</th>\n      <th>ApplicantIncome</th>\n      <th>CoapplicantIncome</th>\n      <th>LoanAmount</th>\n      <th>Loan_Amount_Term</th>\n      <th>Credit_History</th>\n      <th>Property_Area</th>\n      <th>Loan_Status</th>\n    </tr>\n  </thead>\n  <tbody>\n    <tr>\n      <th>0</th>\n      <td>Male</td>\n      <td>0</td>\n      <td>0</td>\n      <td>Graduate</td>\n      <td>0</td>\n      <td>5849</td>\n      <td>0</td>\n      <td>146.0</td>\n      <td>360.0</td>\n      <td>1.0</td>\n      <td>Urban</td>\n      <td>1</td>\n    </tr>\n    <tr>\n      <th>1</th>\n      <td>Male</td>\n      <td>1</td>\n      <td>1</td>\n      <td>Graduate</td>\n      <td>0</td>\n      <td>4583</td>\n      <td>1508</td>\n      <td>128.0</td>\n      <td>360.0</td>\n      <td>1.0</td>\n      <td>Rural</td>\n      <td>0</td>\n    </tr>\n    <tr>\n      <th>2</th>\n      <td>Male</td>\n      <td>1</td>\n      <td>0</td>\n      <td>Graduate</td>\n      <td>1</td>\n      <td>3000</td>\n      <td>0</td>\n      <td>66.0</td>\n      <td>360.0</td>\n      <td>1.0</td>\n      <td>Urban</td>\n      <td>1</td>\n    </tr>\n    <tr>\n      <th>3</th>\n      <td>Male</td>\n      <td>1</td>\n      <td>0</td>\n      <td>Not Graduate</td>\n      <td>0</td>\n      <td>2583</td>\n      <td>2358</td>\n      <td>120.0</td>\n      <td>360.0</td>\n      <td>1.0</td>\n      <td>Urban</td>\n      <td>1</td>\n    </tr>\n    <tr>\n      <th>4</th>\n      <td>Male</td>\n      <td>0</td>\n      <td>0</td>\n      <td>Graduate</td>\n      <td>0</td>\n      <td>6000</td>\n      <td>0</td>\n      <td>141.0</td>\n      <td>360.0</td>\n      <td>1.0</td>\n      <td>Urban</td>\n      <td>1</td>\n    </tr>\n  </tbody>\n</table>\n</div>"
          },
          "metadata": {}
        }
      ],
      "execution_count": 62,
      "metadata": {
        "gather": {
          "logged": 1748951119428
        }
      },
      "id": "0cdcca2e-96e4-4410-9793-4478f083e6e9"
    },
    {
      "cell_type": "code",
      "source": [
        "#Credit history is important as we can see from our seaborn heatmap it has a strong correlation with Loan_Status our target variable\n",
        "#sns.heatmap(df.corr(),annot=True, cmap='RdYlGn')"
      ],
      "outputs": [],
      "execution_count": 63,
      "metadata": {
        "gather": {
          "logged": 1748951120789
        }
      },
      "id": "0140fc63-183b-4ebc-93d6-363d792f2ef8"
    },
    {
      "cell_type": "code",
      "source": [
        "df['Credit_History'].value_counts()"
      ],
      "outputs": [
        {
          "output_type": "execute_result",
          "execution_count": 64,
          "data": {
            "text/plain": "Credit_History\n1.0    472\n0.0     89\nName: count, dtype: int64"
          },
          "metadata": {}
        }
      ],
      "execution_count": 64,
      "metadata": {
        "gather": {
          "logged": 1748951122153
        }
      },
      "id": "7c4d6999-5a8f-44eb-8246-ba96548204e7"
    },
    {
      "cell_type": "code",
      "source": [
        "#filling credit history with mode - 49 missing values\n",
        "df['Credit_History'] = df['Credit_History'].fillna(df['Credit_History'].mode()[0])"
      ],
      "outputs": [],
      "execution_count": 65,
      "metadata": {
        "gather": {
          "logged": 1748951123434
        }
      },
      "id": "f4a77139-a53b-40f6-8e60-fe27ac8344a8"
    },
    {
      "cell_type": "code",
      "source": [
        "df['Credit_History'].isnull().sum()"
      ],
      "outputs": [
        {
          "output_type": "execute_result",
          "execution_count": 66,
          "data": {
            "text/plain": "0"
          },
          "metadata": {}
        }
      ],
      "execution_count": 66,
      "metadata": {
        "gather": {
          "logged": 1748951124524
        }
      },
      "id": "98dcffe3-b6ac-4f7d-99e2-2ed3227a6879"
    },
    {
      "cell_type": "code",
      "source": [
        "#sns.heatmap(df.corr(),annot=True, cmap='RdYlGn')"
      ],
      "outputs": [],
      "execution_count": 67,
      "metadata": {
        "gather": {
          "logged": 1748951125523
        }
      },
      "id": "8dc99bf6-f8a0-4551-b0e9-7247f72e1e8d"
    },
    {
      "cell_type": "code",
      "source": [
        "#Checking dataframe data types\n",
        "df.info()"
      ],
      "outputs": [
        {
          "output_type": "stream",
          "name": "stdout",
          "text": "<class 'pandas.core.frame.DataFrame'>\nIndex: 611 entries, 0 to 613\nData columns (total 12 columns):\n #   Column             Non-Null Count  Dtype  \n---  ------             --------------  -----  \n 0   Gender             611 non-null    object \n 1   Married            611 non-null    int64  \n 2   Dependents         611 non-null    int64  \n 3   Education          611 non-null    object \n 4   Self_Employed      611 non-null    int64  \n 5   ApplicantIncome    611 non-null    int64  \n 6   CoapplicantIncome  611 non-null    int64  \n 7   LoanAmount         611 non-null    float64\n 8   Loan_Amount_Term   611 non-null    float64\n 9   Credit_History     611 non-null    float64\n 10  Property_Area      611 non-null    object \n 11  Loan_Status        611 non-null    int64  \ndtypes: float64(3), int64(6), object(3)\nmemory usage: 62.1+ KB\n"
        }
      ],
      "execution_count": 68,
      "metadata": {
        "gather": {
          "logged": 1748951126805
        }
      },
      "id": "05600acd-10f8-4122-889d-8b93e4069ca8"
    },
    {
      "cell_type": "code",
      "source": [
        "#Mapping our object data to intgers 0 and 1 for 'Gender', 'Education' and 0,1,2 for'Property Area'\n",
        "#Change data type of the column"
      ],
      "outputs": [],
      "execution_count": 69,
      "metadata": {
        "gather": {
          "logged": 1748951127753
        }
      },
      "id": "631aad66-1c4d-4942-9f1a-750c2120dff1"
    },
    {
      "cell_type": "code",
      "source": [
        "#'Education'\n",
        "\n",
        "df['Education'].value_counts()"
      ],
      "outputs": [
        {
          "output_type": "execute_result",
          "execution_count": 70,
          "data": {
            "text/plain": "Education\nGraduate        477\nNot Graduate    134\nName: count, dtype: int64"
          },
          "metadata": {}
        }
      ],
      "execution_count": 70,
      "metadata": {
        "gather": {
          "logged": 1748951128737
        }
      },
      "id": "d7150570-07b8-4d07-a246-9769dba6b74c"
    },
    {
      "cell_type": "code",
      "source": [
        "edmap = {'Not Graduate':0, 'Graduate':1} \n",
        "\n",
        "df['Education'] = df['Education'].map(edmap)"
      ],
      "outputs": [],
      "execution_count": 71,
      "metadata": {
        "gather": {
          "logged": 1748951129708
        }
      },
      "id": "651a2b06-0724-4a55-8eae-98621bf18ca8"
    },
    {
      "cell_type": "code",
      "source": [
        "df['Education'].head()"
      ],
      "outputs": [
        {
          "output_type": "execute_result",
          "execution_count": 72,
          "data": {
            "text/plain": "0    1\n1    1\n2    1\n3    0\n4    1\nName: Education, dtype: int64"
          },
          "metadata": {}
        }
      ],
      "execution_count": 72,
      "metadata": {
        "gather": {
          "logged": 1748951130594
        }
      },
      "id": "b89140ac-d03d-44bf-976b-d7aa9d86d189"
    },
    {
      "cell_type": "code",
      "source": [
        "df['Education'].dtype"
      ],
      "outputs": [
        {
          "output_type": "execute_result",
          "execution_count": 74,
          "data": {
            "text/plain": "dtype('int64')"
          },
          "metadata": {}
        }
      ],
      "execution_count": 74,
      "metadata": {
        "gather": {
          "logged": 1748951137018
        }
      },
      "id": "713f22ea-f1ba-4149-8821-14886d1cbee8"
    },
    {
      "cell_type": "code",
      "source": [
        "#'Gender'\n",
        "df['Gender'].value_counts()"
      ],
      "outputs": [
        {
          "output_type": "execute_result",
          "execution_count": 75,
          "data": {
            "text/plain": "Gender\nMale      500\nFemale    111\nName: count, dtype: int64"
          },
          "metadata": {}
        }
      ],
      "execution_count": 75,
      "metadata": {
        "gather": {
          "logged": 1748951138571
        }
      },
      "id": "827ed7cd-ce65-43a3-bf46-567ecdc7ac76"
    },
    {
      "cell_type": "code",
      "source": [
        "genmap = {'Female':0, 'Male':1} \n",
        "\n",
        "df['Gender'] = df['Gender'].map(genmap)"
      ],
      "outputs": [],
      "execution_count": 76,
      "metadata": {
        "gather": {
          "logged": 1748951139738
        }
      },
      "id": "9948ade8-5e2e-497b-a55a-f7bbefadfce3"
    },
    {
      "cell_type": "code",
      "source": [
        "df['Gender'].dtype"
      ],
      "outputs": [
        {
          "output_type": "execute_result",
          "execution_count": 77,
          "data": {
            "text/plain": "dtype('int64')"
          },
          "metadata": {}
        }
      ],
      "execution_count": 77,
      "metadata": {
        "gather": {
          "logged": 1748951140621
        }
      },
      "id": "8ea74c21-7675-47b2-b868-7a4a4bf12c9d"
    },
    {
      "cell_type": "code",
      "source": [
        "df['Gender'].head()"
      ],
      "outputs": [
        {
          "output_type": "execute_result",
          "execution_count": 78,
          "data": {
            "text/plain": "0    1\n1    1\n2    1\n3    1\n4    1\nName: Gender, dtype: int64"
          },
          "metadata": {}
        }
      ],
      "execution_count": 78,
      "metadata": {
        "gather": {
          "logged": 1748951141263
        }
      },
      "id": "d4f934d5-f492-451e-a3c4-a6b1f6ad6eb6"
    },
    {
      "cell_type": "code",
      "source": [
        "#'Property Area'\n",
        "df['Property_Area'].value_counts()"
      ],
      "outputs": [
        {
          "output_type": "execute_result",
          "execution_count": 79,
          "data": {
            "text/plain": "Property_Area\nSemiurban    231\nUrban        201\nRural        179\nName: count, dtype: int64"
          },
          "metadata": {}
        }
      ],
      "execution_count": 79,
      "metadata": {
        "gather": {
          "logged": 1748951141887
        }
      },
      "id": "ee41d210-235c-47f8-ba53-601cb31d52e0"
    },
    {
      "cell_type": "code",
      "source": [
        "propmap = {'Semiurban':0, 'Urban':1,'Rural':2}\n",
        "\n",
        "df['Property_Area'] = df['Property_Area'].map(propmap)"
      ],
      "outputs": [],
      "execution_count": 80,
      "metadata": {
        "gather": {
          "logged": 1748951142524
        }
      },
      "id": "07021bc5-614d-49bf-b863-3bd9fba9c0ed"
    },
    {
      "cell_type": "code",
      "source": [
        "df['Property_Area'].head()"
      ],
      "outputs": [
        {
          "output_type": "execute_result",
          "execution_count": 81,
          "data": {
            "text/plain": "0    1\n1    2\n2    1\n3    1\n4    1\nName: Property_Area, dtype: int64"
          },
          "metadata": {}
        }
      ],
      "execution_count": 81,
      "metadata": {
        "gather": {
          "logged": 1748951143186
        }
      },
      "id": "fe889f1f-882b-4cd5-8c09-43039a202370"
    },
    {
      "cell_type": "code",
      "source": [
        "#Let's run our seaborn heatmap again and check if we can perform Principal Component Analysis and remove independent variables not required\n",
        "# import matplotlib.pyplot as plt\n",
        "# plt.figure(figsize=(14,10))\n",
        "# sns.heatmap(df.corr(),annot=True, cmap='RdYlGn')\n",
        "\n",
        "# plt.title('Correlation heatmap')\n",
        "# plt.show()"
      ],
      "outputs": [],
      "execution_count": 82,
      "metadata": {
        "gather": {
          "logged": 1748951143767
        }
      },
      "id": "a708fb54-1c3e-4e83-bc1b-93cb647d0cbe"
    },
    {
      "cell_type": "code",
      "source": [
        "#Property Area has a little to no correlation on our target variable - I will drop this column\n",
        "df = df.drop('Property_Area',axis=1)"
      ],
      "outputs": [],
      "execution_count": 83,
      "metadata": {
        "gather": {
          "logged": 1748951144289
        }
      },
      "id": "e25261ff-c472-4aad-886e-9914c4e1923e"
    },
    {
      "cell_type": "code",
      "source": [
        "# plt.figure(figsize=(14,10))\n",
        "# sns.heatmap(df.corr(),annot=True, cmap='RdYlGn')\n",
        "\n",
        "# plt.title('Correlation heatmap')\n",
        "# plt.show()"
      ],
      "outputs": [],
      "execution_count": 84,
      "metadata": {
        "gather": {
          "logged": 1748951144762
        }
      },
      "id": "8643fc15-36b9-451c-872c-ed8b1c69f7d5"
    },
    {
      "cell_type": "code",
      "source": [
        "#Scaling our data - some loan amounts and Income might be a lot bigger than others in our dataset - which could lead to bias\n",
        "#I will check the min and max range and decide if I should scale our data between 0 and 1\n",
        "\n",
        "df.describe()"
      ],
      "outputs": [
        {
          "output_type": "execute_result",
          "execution_count": 85,
          "data": {
            "text/plain": "           Gender     Married  Dependents   Education  Self_Employed  \\\ncount  611.000000  611.000000  611.000000  611.000000     611.000000   \nmean     0.818331    0.651391    1.055646    0.780687       0.134206   \nstd      0.385888    0.476920    1.866929    0.414120       0.341153   \nmin      0.000000    0.000000    0.000000    0.000000       0.000000   \n25%      1.000000    0.000000    0.000000    1.000000       0.000000   \n50%      1.000000    1.000000    0.000000    1.000000       0.000000   \n75%      1.000000    1.000000    1.000000    1.000000       0.000000   \nmax      1.000000    1.000000    9.000000    1.000000       1.000000   \n\n       ApplicantIncome  CoapplicantIncome  LoanAmount  Loan_Amount_Term  \\\ncount       611.000000         611.000000  611.000000        611.000000   \nmean       5399.513912        1627.970540  146.356792        342.324059   \nstd        6120.764249        2931.748366   84.240777         64.208419   \nmin         150.000000           0.000000    9.000000         12.000000   \n25%        2875.500000           0.000000  100.000000        360.000000   \n50%        3800.000000        1213.000000  128.000000        360.000000   \n75%        5790.000000        2304.000000  165.000000        360.000000   \nmax       81000.000000       41667.000000  700.000000        480.000000   \n\n       Credit_History  Loan_Status  \ncount      611.000000   611.000000  \nmean         0.854337     0.685761  \nstd          0.353057     0.464592  \nmin          0.000000     0.000000  \n25%          1.000000     0.000000  \n50%          1.000000     1.000000  \n75%          1.000000     1.000000  \nmax          1.000000     1.000000  ",
            "text/html": "<div>\n<style scoped>\n    .dataframe tbody tr th:only-of-type {\n        vertical-align: middle;\n    }\n\n    .dataframe tbody tr th {\n        vertical-align: top;\n    }\n\n    .dataframe thead th {\n        text-align: right;\n    }\n</style>\n<table border=\"1\" class=\"dataframe\">\n  <thead>\n    <tr style=\"text-align: right;\">\n      <th></th>\n      <th>Gender</th>\n      <th>Married</th>\n      <th>Dependents</th>\n      <th>Education</th>\n      <th>Self_Employed</th>\n      <th>ApplicantIncome</th>\n      <th>CoapplicantIncome</th>\n      <th>LoanAmount</th>\n      <th>Loan_Amount_Term</th>\n      <th>Credit_History</th>\n      <th>Loan_Status</th>\n    </tr>\n  </thead>\n  <tbody>\n    <tr>\n      <th>count</th>\n      <td>611.000000</td>\n      <td>611.000000</td>\n      <td>611.000000</td>\n      <td>611.000000</td>\n      <td>611.000000</td>\n      <td>611.000000</td>\n      <td>611.000000</td>\n      <td>611.000000</td>\n      <td>611.000000</td>\n      <td>611.000000</td>\n      <td>611.000000</td>\n    </tr>\n    <tr>\n      <th>mean</th>\n      <td>0.818331</td>\n      <td>0.651391</td>\n      <td>1.055646</td>\n      <td>0.780687</td>\n      <td>0.134206</td>\n      <td>5399.513912</td>\n      <td>1627.970540</td>\n      <td>146.356792</td>\n      <td>342.324059</td>\n      <td>0.854337</td>\n      <td>0.685761</td>\n    </tr>\n    <tr>\n      <th>std</th>\n      <td>0.385888</td>\n      <td>0.476920</td>\n      <td>1.866929</td>\n      <td>0.414120</td>\n      <td>0.341153</td>\n      <td>6120.764249</td>\n      <td>2931.748366</td>\n      <td>84.240777</td>\n      <td>64.208419</td>\n      <td>0.353057</td>\n      <td>0.464592</td>\n    </tr>\n    <tr>\n      <th>min</th>\n      <td>0.000000</td>\n      <td>0.000000</td>\n      <td>0.000000</td>\n      <td>0.000000</td>\n      <td>0.000000</td>\n      <td>150.000000</td>\n      <td>0.000000</td>\n      <td>9.000000</td>\n      <td>12.000000</td>\n      <td>0.000000</td>\n      <td>0.000000</td>\n    </tr>\n    <tr>\n      <th>25%</th>\n      <td>1.000000</td>\n      <td>0.000000</td>\n      <td>0.000000</td>\n      <td>1.000000</td>\n      <td>0.000000</td>\n      <td>2875.500000</td>\n      <td>0.000000</td>\n      <td>100.000000</td>\n      <td>360.000000</td>\n      <td>1.000000</td>\n      <td>0.000000</td>\n    </tr>\n    <tr>\n      <th>50%</th>\n      <td>1.000000</td>\n      <td>1.000000</td>\n      <td>0.000000</td>\n      <td>1.000000</td>\n      <td>0.000000</td>\n      <td>3800.000000</td>\n      <td>1213.000000</td>\n      <td>128.000000</td>\n      <td>360.000000</td>\n      <td>1.000000</td>\n      <td>1.000000</td>\n    </tr>\n    <tr>\n      <th>75%</th>\n      <td>1.000000</td>\n      <td>1.000000</td>\n      <td>1.000000</td>\n      <td>1.000000</td>\n      <td>0.000000</td>\n      <td>5790.000000</td>\n      <td>2304.000000</td>\n      <td>165.000000</td>\n      <td>360.000000</td>\n      <td>1.000000</td>\n      <td>1.000000</td>\n    </tr>\n    <tr>\n      <th>max</th>\n      <td>1.000000</td>\n      <td>1.000000</td>\n      <td>9.000000</td>\n      <td>1.000000</td>\n      <td>1.000000</td>\n      <td>81000.000000</td>\n      <td>41667.000000</td>\n      <td>700.000000</td>\n      <td>480.000000</td>\n      <td>1.000000</td>\n      <td>1.000000</td>\n    </tr>\n  </tbody>\n</table>\n</div>"
          },
          "metadata": {}
        }
      ],
      "execution_count": 85,
      "metadata": {
        "gather": {
          "logged": 1748951145291
        }
      },
      "id": "a3c994b6-307e-4859-8365-6053fbc1ebad"
    },
    {
      "cell_type": "code",
      "source": [
        "df.columns"
      ],
      "outputs": [
        {
          "output_type": "error",
          "ename": "NameError",
          "evalue": "name 'df' is not defined",
          "traceback": [
            "\u001b[0;31m---------------------------------------------------------------------------\u001b[0m",
            "\u001b[0;31mNameError\u001b[0m                                 Traceback (most recent call last)",
            "Cell \u001b[0;32mIn[1], line 1\u001b[0m\n\u001b[0;32m----> 1\u001b[0m \u001b[43mdf\u001b[49m\u001b[38;5;241m.\u001b[39mcolumns\n",
            "\u001b[0;31mNameError\u001b[0m: name 'df' is not defined"
          ]
        }
      ],
      "execution_count": 1,
      "metadata": {
        "gather": {
          "logged": 1749018214872
        }
      },
      "id": "def1f019-5ca2-466c-be27-77a516cee4b0"
    },
    {
      "cell_type": "code",
      "source": [
        "#After review the data, we can see that 'Applicant Income', 'Loan_Term_amount' and 'CoapplicantIncome' hav a high standard deviation and could affect our models results\n",
        "#Lets scale our data between 0 and 1\n",
        "#we will use the MinMaxScaler class from sklearn module"
      ],
      "outputs": [],
      "execution_count": 86,
      "metadata": {
        "gather": {
          "logged": 1748951145796
        }
      },
      "id": "b7f35ab6-b993-4bcc-aea9-3e2231a39796"
    },
    {
      "cell_type": "code",
      "source": [
        "%pip install scikit-learn"
      ],
      "outputs": [
        {
          "output_type": "stream",
          "name": "stdout",
          "text": "Requirement already satisfied: scikit-learn in /anaconda/envs/jupyter_env/lib/python3.10/site-packages (1.6.1)\r\nRequirement already satisfied: numpy>=1.19.5 in /anaconda/envs/jupyter_env/lib/python3.10/site-packages (from scikit-learn) (1.23.5)\r\nRequirement already satisfied: scipy>=1.6.0 in /anaconda/envs/jupyter_env/lib/python3.10/site-packages (from scikit-learn) (1.15.2)\r\nRequirement already satisfied: joblib>=1.2.0 in /anaconda/envs/jupyter_env/lib/python3.10/site-packages (from scikit-learn) (1.5.1)\r\nRequirement already satisfied: threadpoolctl>=3.1.0 in /anaconda/envs/jupyter_env/lib/python3.10/site-packages (from scikit-learn) (3.6.0)\r\nNote: you may need to restart the kernel to use updated packages.\n"
        }
      ],
      "execution_count": 87,
      "metadata": {},
      "id": "d1be903a-8023-4d66-aa05-a677edaad125"
    },
    {
      "cell_type": "code",
      "source": [
        "from sklearn.preprocessing import MinMaxScaler\n",
        "\n",
        "scaler = MinMaxScaler() #create an instance of MinMaxScaler class\n",
        "\n",
        "#Split our data into X and Y variables - independent and dependent (target) variables \n",
        "\n",
        "X = df.drop('Loan_Status',axis=1) #dropping 'Loan_Status from X - independent varibales \n",
        "y = df['Loan_Status'] #Target Variable\n",
        "#scale our data - will return a numpy array\n",
        "df_scale = scaler.fit_transform(X)\n",
        "\n",
        "#Convert back to a Dataframe\n",
        "df_scaled = pd.DataFrame(df_scale,columns=X.columns)"
      ],
      "outputs": [],
      "execution_count": 88,
      "metadata": {
        "gather": {
          "logged": 1748951146838
        }
      },
      "id": "f1d50ac5-74a6-4186-a4fd-827205a7f154"
    },
    {
      "cell_type": "code",
      "source": [
        "df_scaled.head() #the data is now scaled between 0 and 1"
      ],
      "outputs": [
        {
          "output_type": "execute_result",
          "execution_count": 89,
          "data": {
            "text/plain": "   Gender  Married  Dependents  Education  Self_Employed  ApplicantIncome  \\\n0     1.0      0.0    0.000000        1.0            0.0         0.070489   \n1     1.0      1.0    0.111111        1.0            0.0         0.054830   \n2     1.0      1.0    0.000000        1.0            1.0         0.035250   \n3     1.0      1.0    0.000000        0.0            0.0         0.030093   \n4     1.0      0.0    0.000000        1.0            0.0         0.072356   \n\n   CoapplicantIncome  LoanAmount  Loan_Amount_Term  Credit_History  \n0           0.000000    0.198263           0.74359             1.0  \n1           0.036192    0.172214           0.74359             1.0  \n2           0.000000    0.082489           0.74359             1.0  \n3           0.056592    0.160637           0.74359             1.0  \n4           0.000000    0.191027           0.74359             1.0  ",
            "text/html": "<div>\n<style scoped>\n    .dataframe tbody tr th:only-of-type {\n        vertical-align: middle;\n    }\n\n    .dataframe tbody tr th {\n        vertical-align: top;\n    }\n\n    .dataframe thead th {\n        text-align: right;\n    }\n</style>\n<table border=\"1\" class=\"dataframe\">\n  <thead>\n    <tr style=\"text-align: right;\">\n      <th></th>\n      <th>Gender</th>\n      <th>Married</th>\n      <th>Dependents</th>\n      <th>Education</th>\n      <th>Self_Employed</th>\n      <th>ApplicantIncome</th>\n      <th>CoapplicantIncome</th>\n      <th>LoanAmount</th>\n      <th>Loan_Amount_Term</th>\n      <th>Credit_History</th>\n    </tr>\n  </thead>\n  <tbody>\n    <tr>\n      <th>0</th>\n      <td>1.0</td>\n      <td>0.0</td>\n      <td>0.000000</td>\n      <td>1.0</td>\n      <td>0.0</td>\n      <td>0.070489</td>\n      <td>0.000000</td>\n      <td>0.198263</td>\n      <td>0.74359</td>\n      <td>1.0</td>\n    </tr>\n    <tr>\n      <th>1</th>\n      <td>1.0</td>\n      <td>1.0</td>\n      <td>0.111111</td>\n      <td>1.0</td>\n      <td>0.0</td>\n      <td>0.054830</td>\n      <td>0.036192</td>\n      <td>0.172214</td>\n      <td>0.74359</td>\n      <td>1.0</td>\n    </tr>\n    <tr>\n      <th>2</th>\n      <td>1.0</td>\n      <td>1.0</td>\n      <td>0.000000</td>\n      <td>1.0</td>\n      <td>1.0</td>\n      <td>0.035250</td>\n      <td>0.000000</td>\n      <td>0.082489</td>\n      <td>0.74359</td>\n      <td>1.0</td>\n    </tr>\n    <tr>\n      <th>3</th>\n      <td>1.0</td>\n      <td>1.0</td>\n      <td>0.000000</td>\n      <td>0.0</td>\n      <td>0.0</td>\n      <td>0.030093</td>\n      <td>0.056592</td>\n      <td>0.160637</td>\n      <td>0.74359</td>\n      <td>1.0</td>\n    </tr>\n    <tr>\n      <th>4</th>\n      <td>1.0</td>\n      <td>0.0</td>\n      <td>0.000000</td>\n      <td>1.0</td>\n      <td>0.0</td>\n      <td>0.072356</td>\n      <td>0.000000</td>\n      <td>0.191027</td>\n      <td>0.74359</td>\n      <td>1.0</td>\n    </tr>\n  </tbody>\n</table>\n</div>"
          },
          "metadata": {}
        }
      ],
      "execution_count": 89,
      "metadata": {
        "gather": {
          "logged": 1748951147709
        }
      },
      "id": "ca0e72e7-6778-473d-83c1-d095b99eea91"
    },
    {
      "cell_type": "code",
      "source": [
        "df_scaled.describe()"
      ],
      "outputs": [],
      "execution_count": null,
      "metadata": {
        "gather": {
          "logged": 1748951148691
        }
      },
      "id": "034fcfc1-78f2-4c24-871a-2f06993775fb"
    },
    {
      "cell_type": "code",
      "source": [
        "#Lets confirm that we have no more object data types in our dataset  -- this should return 0\n",
        "categor = [i for i in df_scaled.columns if df[i].dtype == 'O']\n",
        "\n",
        "print(f'We have {len(categor)} in our dataset')"
      ],
      "outputs": [
        {
          "output_type": "stream",
          "name": "stdout",
          "text": "We have 0 in our dataset\n"
        }
      ],
      "execution_count": 138,
      "metadata": {
        "gather": {
          "logged": 1748948488092
        }
      },
      "id": "34794853-7533-482e-ae3f-f7dd4eef9acc"
    },
    {
      "cell_type": "code",
      "source": [
        "#Checking if our Target variable is balanced - this shows the majority of Target values are 1\n",
        "#Let's check class distribution\n",
        "#419/611 = 68.6% for 1\n",
        "#192/611 = 31.4 for 0\n",
        "#Our dataset is not massively imbalanced so I will not add a class_weight hyperparamter to our model\n",
        "df['Loan_Status'].value_counts()"
      ],
      "outputs": [
        {
          "output_type": "execute_result",
          "execution_count": 139,
          "data": {
            "text/plain": "Loan_Status\n1    419\n0    192\nName: count, dtype: int64"
          },
          "metadata": {}
        }
      ],
      "execution_count": 139,
      "metadata": {
        "gather": {
          "logged": 1748948491425
        }
      },
      "id": "d9d8d9a6-7a99-4ff3-9770-887f088b1659"
    },
    {
      "cell_type": "markdown",
      "source": [
        "LOGISTIC REGRESSION (Sigmoid Function)"
      ],
      "metadata": {},
      "id": "6914c725-e9e5-4268-a239-1979130958ac"
    },
    {
      "cell_type": "code",
      "source": [
        "from sklearn.model_selection import train_test_split #train_test_split class is imported to split our data in train and test data\n",
        "\n",
        "#We have a small datset so I will split the datasets 80/20\n",
        "#As we have a small imbalanced dataset I will use the stratify parameter to avoid bias\n",
        "X_train, X_test,y_train,y_test = train_test_split(X,y,test_size=0.2,random_state=42, stratify=y)"
      ],
      "outputs": [],
      "execution_count": 140,
      "metadata": {
        "gather": {
          "logged": 1748948494928
        }
      },
      "id": "b980b188-0497-43c6-aa79-4551d7aef32f"
    },
    {
      "cell_type": "code",
      "source": [
        "#Lets check the shape our train and test datasets\n",
        "X_train.shape"
      ],
      "outputs": [
        {
          "output_type": "execute_result",
          "execution_count": 141,
          "data": {
            "text/plain": "(488, 10)"
          },
          "metadata": {}
        }
      ],
      "execution_count": 141,
      "metadata": {
        "gather": {
          "logged": 1748948497350
        }
      },
      "id": "8c9e7bdd-96b2-49ed-924c-1696530c31ee"
    },
    {
      "cell_type": "code",
      "source": [
        "X_test.shape"
      ],
      "outputs": [
        {
          "output_type": "execute_result",
          "execution_count": 142,
          "data": {
            "text/plain": "(123, 10)"
          },
          "metadata": {}
        }
      ],
      "execution_count": 142,
      "metadata": {
        "gather": {
          "logged": 1748948499754
        }
      },
      "id": "2c637a07-e53e-45c5-9fcc-f21d44ee6601"
    },
    {
      "cell_type": "code",
      "source": [
        "y_train.shape"
      ],
      "outputs": [
        {
          "output_type": "execute_result",
          "execution_count": 143,
          "data": {
            "text/plain": "(488,)"
          },
          "metadata": {}
        }
      ],
      "execution_count": 143,
      "metadata": {
        "gather": {
          "logged": 1748948501922
        }
      },
      "id": "0afe285e-54ac-41d5-a3c1-74e37adf1807"
    },
    {
      "cell_type": "code",
      "source": [
        "y_test.shape"
      ],
      "outputs": [
        {
          "output_type": "execute_result",
          "execution_count": 144,
          "data": {
            "text/plain": "(123,)"
          },
          "metadata": {}
        }
      ],
      "execution_count": 144,
      "metadata": {
        "gather": {
          "logged": 1748948503923
        }
      },
      "id": "2cd86f96-e2ab-4af8-a138-654f36253aad"
    },
    {
      "cell_type": "code",
      "source": [
        "from sklearn.linear_model import LogisticRegression #importing our Logistic Regression model"
      ],
      "outputs": [],
      "execution_count": 145,
      "metadata": {
        "gather": {
          "logged": 1748948505861
        }
      },
      "id": "2894623a-84bb-4a27-99d9-85ab9365d9de"
    },
    {
      "cell_type": "code",
      "source": [
        "model = LogisticRegression(C=1.0,penalty='l1',solver='liblinear') #creating an instance of class Logistic Regression and setting our hyperparameters\n",
        "\n",
        "#C = 1.0: controls how much the model is penalized on large coefficents - C = 1.0 is the defult\n",
        "#penalty = 'l1' : can shrink some weights to zero, some of our independent variables do not have a strong correlation with the target variable so this will help with feature selection\n",
        "#solver='liblinear' : good for small datasets and support l1 (lasso)"
      ],
      "outputs": [],
      "execution_count": 146,
      "metadata": {
        "gather": {
          "logged": 1748948508795
        }
      },
      "id": "113bdd10-f4d8-4190-a13f-690eab043ef5"
    },
    {
      "cell_type": "code",
      "source": [
        "#fit the model to our train data\n",
        "\n",
        "model.fit(X_train,y_train)"
      ],
      "outputs": [
        {
          "output_type": "execute_result",
          "execution_count": 147,
          "data": {
            "text/plain": "LogisticRegression(penalty='l1', solver='liblinear')",
            "text/html": "<style>#sk-container-id-1 {\n  /* Definition of color scheme common for light and dark mode */\n  --sklearn-color-text: #000;\n  --sklearn-color-text-muted: #666;\n  --sklearn-color-line: gray;\n  /* Definition of color scheme for unfitted estimators */\n  --sklearn-color-unfitted-level-0: #fff5e6;\n  --sklearn-color-unfitted-level-1: #f6e4d2;\n  --sklearn-color-unfitted-level-2: #ffe0b3;\n  --sklearn-color-unfitted-level-3: chocolate;\n  /* Definition of color scheme for fitted estimators */\n  --sklearn-color-fitted-level-0: #f0f8ff;\n  --sklearn-color-fitted-level-1: #d4ebff;\n  --sklearn-color-fitted-level-2: #b3dbfd;\n  --sklearn-color-fitted-level-3: cornflowerblue;\n\n  /* Specific color for light theme */\n  --sklearn-color-text-on-default-background: var(--sg-text-color, var(--theme-code-foreground, var(--jp-content-font-color1, black)));\n  --sklearn-color-background: var(--sg-background-color, var(--theme-background, var(--jp-layout-color0, white)));\n  --sklearn-color-border-box: var(--sg-text-color, var(--theme-code-foreground, var(--jp-content-font-color1, black)));\n  --sklearn-color-icon: #696969;\n\n  @media (prefers-color-scheme: dark) {\n    /* Redefinition of color scheme for dark theme */\n    --sklearn-color-text-on-default-background: var(--sg-text-color, var(--theme-code-foreground, var(--jp-content-font-color1, white)));\n    --sklearn-color-background: var(--sg-background-color, var(--theme-background, var(--jp-layout-color0, #111)));\n    --sklearn-color-border-box: var(--sg-text-color, var(--theme-code-foreground, var(--jp-content-font-color1, white)));\n    --sklearn-color-icon: #878787;\n  }\n}\n\n#sk-container-id-1 {\n  color: var(--sklearn-color-text);\n}\n\n#sk-container-id-1 pre {\n  padding: 0;\n}\n\n#sk-container-id-1 input.sk-hidden--visually {\n  border: 0;\n  clip: rect(1px 1px 1px 1px);\n  clip: rect(1px, 1px, 1px, 1px);\n  height: 1px;\n  margin: -1px;\n  overflow: hidden;\n  padding: 0;\n  position: absolute;\n  width: 1px;\n}\n\n#sk-container-id-1 div.sk-dashed-wrapped {\n  border: 1px dashed var(--sklearn-color-line);\n  margin: 0 0.4em 0.5em 0.4em;\n  box-sizing: border-box;\n  padding-bottom: 0.4em;\n  background-color: var(--sklearn-color-background);\n}\n\n#sk-container-id-1 div.sk-container {\n  /* jupyter's `normalize.less` sets `[hidden] { display: none; }`\n     but bootstrap.min.css set `[hidden] { display: none !important; }`\n     so we also need the `!important` here to be able to override the\n     default hidden behavior on the sphinx rendered scikit-learn.org.\n     See: https://github.com/scikit-learn/scikit-learn/issues/21755 */\n  display: inline-block !important;\n  position: relative;\n}\n\n#sk-container-id-1 div.sk-text-repr-fallback {\n  display: none;\n}\n\ndiv.sk-parallel-item,\ndiv.sk-serial,\ndiv.sk-item {\n  /* draw centered vertical line to link estimators */\n  background-image: linear-gradient(var(--sklearn-color-text-on-default-background), var(--sklearn-color-text-on-default-background));\n  background-size: 2px 100%;\n  background-repeat: no-repeat;\n  background-position: center center;\n}\n\n/* Parallel-specific style estimator block */\n\n#sk-container-id-1 div.sk-parallel-item::after {\n  content: \"\";\n  width: 100%;\n  border-bottom: 2px solid var(--sklearn-color-text-on-default-background);\n  flex-grow: 1;\n}\n\n#sk-container-id-1 div.sk-parallel {\n  display: flex;\n  align-items: stretch;\n  justify-content: center;\n  background-color: var(--sklearn-color-background);\n  position: relative;\n}\n\n#sk-container-id-1 div.sk-parallel-item {\n  display: flex;\n  flex-direction: column;\n}\n\n#sk-container-id-1 div.sk-parallel-item:first-child::after {\n  align-self: flex-end;\n  width: 50%;\n}\n\n#sk-container-id-1 div.sk-parallel-item:last-child::after {\n  align-self: flex-start;\n  width: 50%;\n}\n\n#sk-container-id-1 div.sk-parallel-item:only-child::after {\n  width: 0;\n}\n\n/* Serial-specific style estimator block */\n\n#sk-container-id-1 div.sk-serial {\n  display: flex;\n  flex-direction: column;\n  align-items: center;\n  background-color: var(--sklearn-color-background);\n  padding-right: 1em;\n  padding-left: 1em;\n}\n\n\n/* Toggleable style: style used for estimator/Pipeline/ColumnTransformer box that is\nclickable and can be expanded/collapsed.\n- Pipeline and ColumnTransformer use this feature and define the default style\n- Estimators will overwrite some part of the style using the `sk-estimator` class\n*/\n\n/* Pipeline and ColumnTransformer style (default) */\n\n#sk-container-id-1 div.sk-toggleable {\n  /* Default theme specific background. It is overwritten whether we have a\n  specific estimator or a Pipeline/ColumnTransformer */\n  background-color: var(--sklearn-color-background);\n}\n\n/* Toggleable label */\n#sk-container-id-1 label.sk-toggleable__label {\n  cursor: pointer;\n  display: flex;\n  width: 100%;\n  margin-bottom: 0;\n  padding: 0.5em;\n  box-sizing: border-box;\n  text-align: center;\n  align-items: start;\n  justify-content: space-between;\n  gap: 0.5em;\n}\n\n#sk-container-id-1 label.sk-toggleable__label .caption {\n  font-size: 0.6rem;\n  font-weight: lighter;\n  color: var(--sklearn-color-text-muted);\n}\n\n#sk-container-id-1 label.sk-toggleable__label-arrow:before {\n  /* Arrow on the left of the label */\n  content: \"▸\";\n  float: left;\n  margin-right: 0.25em;\n  color: var(--sklearn-color-icon);\n}\n\n#sk-container-id-1 label.sk-toggleable__label-arrow:hover:before {\n  color: var(--sklearn-color-text);\n}\n\n/* Toggleable content - dropdown */\n\n#sk-container-id-1 div.sk-toggleable__content {\n  max-height: 0;\n  max-width: 0;\n  overflow: hidden;\n  text-align: left;\n  /* unfitted */\n  background-color: var(--sklearn-color-unfitted-level-0);\n}\n\n#sk-container-id-1 div.sk-toggleable__content.fitted {\n  /* fitted */\n  background-color: var(--sklearn-color-fitted-level-0);\n}\n\n#sk-container-id-1 div.sk-toggleable__content pre {\n  margin: 0.2em;\n  border-radius: 0.25em;\n  color: var(--sklearn-color-text);\n  /* unfitted */\n  background-color: var(--sklearn-color-unfitted-level-0);\n}\n\n#sk-container-id-1 div.sk-toggleable__content.fitted pre {\n  /* unfitted */\n  background-color: var(--sklearn-color-fitted-level-0);\n}\n\n#sk-container-id-1 input.sk-toggleable__control:checked~div.sk-toggleable__content {\n  /* Expand drop-down */\n  max-height: 200px;\n  max-width: 100%;\n  overflow: auto;\n}\n\n#sk-container-id-1 input.sk-toggleable__control:checked~label.sk-toggleable__label-arrow:before {\n  content: \"▾\";\n}\n\n/* Pipeline/ColumnTransformer-specific style */\n\n#sk-container-id-1 div.sk-label input.sk-toggleable__control:checked~label.sk-toggleable__label {\n  color: var(--sklearn-color-text);\n  background-color: var(--sklearn-color-unfitted-level-2);\n}\n\n#sk-container-id-1 div.sk-label.fitted input.sk-toggleable__control:checked~label.sk-toggleable__label {\n  background-color: var(--sklearn-color-fitted-level-2);\n}\n\n/* Estimator-specific style */\n\n/* Colorize estimator box */\n#sk-container-id-1 div.sk-estimator input.sk-toggleable__control:checked~label.sk-toggleable__label {\n  /* unfitted */\n  background-color: var(--sklearn-color-unfitted-level-2);\n}\n\n#sk-container-id-1 div.sk-estimator.fitted input.sk-toggleable__control:checked~label.sk-toggleable__label {\n  /* fitted */\n  background-color: var(--sklearn-color-fitted-level-2);\n}\n\n#sk-container-id-1 div.sk-label label.sk-toggleable__label,\n#sk-container-id-1 div.sk-label label {\n  /* The background is the default theme color */\n  color: var(--sklearn-color-text-on-default-background);\n}\n\n/* On hover, darken the color of the background */\n#sk-container-id-1 div.sk-label:hover label.sk-toggleable__label {\n  color: var(--sklearn-color-text);\n  background-color: var(--sklearn-color-unfitted-level-2);\n}\n\n/* Label box, darken color on hover, fitted */\n#sk-container-id-1 div.sk-label.fitted:hover label.sk-toggleable__label.fitted {\n  color: var(--sklearn-color-text);\n  background-color: var(--sklearn-color-fitted-level-2);\n}\n\n/* Estimator label */\n\n#sk-container-id-1 div.sk-label label {\n  font-family: monospace;\n  font-weight: bold;\n  display: inline-block;\n  line-height: 1.2em;\n}\n\n#sk-container-id-1 div.sk-label-container {\n  text-align: center;\n}\n\n/* Estimator-specific */\n#sk-container-id-1 div.sk-estimator {\n  font-family: monospace;\n  border: 1px dotted var(--sklearn-color-border-box);\n  border-radius: 0.25em;\n  box-sizing: border-box;\n  margin-bottom: 0.5em;\n  /* unfitted */\n  background-color: var(--sklearn-color-unfitted-level-0);\n}\n\n#sk-container-id-1 div.sk-estimator.fitted {\n  /* fitted */\n  background-color: var(--sklearn-color-fitted-level-0);\n}\n\n/* on hover */\n#sk-container-id-1 div.sk-estimator:hover {\n  /* unfitted */\n  background-color: var(--sklearn-color-unfitted-level-2);\n}\n\n#sk-container-id-1 div.sk-estimator.fitted:hover {\n  /* fitted */\n  background-color: var(--sklearn-color-fitted-level-2);\n}\n\n/* Specification for estimator info (e.g. \"i\" and \"?\") */\n\n/* Common style for \"i\" and \"?\" */\n\n.sk-estimator-doc-link,\na:link.sk-estimator-doc-link,\na:visited.sk-estimator-doc-link {\n  float: right;\n  font-size: smaller;\n  line-height: 1em;\n  font-family: monospace;\n  background-color: var(--sklearn-color-background);\n  border-radius: 1em;\n  height: 1em;\n  width: 1em;\n  text-decoration: none !important;\n  margin-left: 0.5em;\n  text-align: center;\n  /* unfitted */\n  border: var(--sklearn-color-unfitted-level-1) 1pt solid;\n  color: var(--sklearn-color-unfitted-level-1);\n}\n\n.sk-estimator-doc-link.fitted,\na:link.sk-estimator-doc-link.fitted,\na:visited.sk-estimator-doc-link.fitted {\n  /* fitted */\n  border: var(--sklearn-color-fitted-level-1) 1pt solid;\n  color: var(--sklearn-color-fitted-level-1);\n}\n\n/* On hover */\ndiv.sk-estimator:hover .sk-estimator-doc-link:hover,\n.sk-estimator-doc-link:hover,\ndiv.sk-label-container:hover .sk-estimator-doc-link:hover,\n.sk-estimator-doc-link:hover {\n  /* unfitted */\n  background-color: var(--sklearn-color-unfitted-level-3);\n  color: var(--sklearn-color-background);\n  text-decoration: none;\n}\n\ndiv.sk-estimator.fitted:hover .sk-estimator-doc-link.fitted:hover,\n.sk-estimator-doc-link.fitted:hover,\ndiv.sk-label-container:hover .sk-estimator-doc-link.fitted:hover,\n.sk-estimator-doc-link.fitted:hover {\n  /* fitted */\n  background-color: var(--sklearn-color-fitted-level-3);\n  color: var(--sklearn-color-background);\n  text-decoration: none;\n}\n\n/* Span, style for the box shown on hovering the info icon */\n.sk-estimator-doc-link span {\n  display: none;\n  z-index: 9999;\n  position: relative;\n  font-weight: normal;\n  right: .2ex;\n  padding: .5ex;\n  margin: .5ex;\n  width: min-content;\n  min-width: 20ex;\n  max-width: 50ex;\n  color: var(--sklearn-color-text);\n  box-shadow: 2pt 2pt 4pt #999;\n  /* unfitted */\n  background: var(--sklearn-color-unfitted-level-0);\n  border: .5pt solid var(--sklearn-color-unfitted-level-3);\n}\n\n.sk-estimator-doc-link.fitted span {\n  /* fitted */\n  background: var(--sklearn-color-fitted-level-0);\n  border: var(--sklearn-color-fitted-level-3);\n}\n\n.sk-estimator-doc-link:hover span {\n  display: block;\n}\n\n/* \"?\"-specific style due to the `<a>` HTML tag */\n\n#sk-container-id-1 a.estimator_doc_link {\n  float: right;\n  font-size: 1rem;\n  line-height: 1em;\n  font-family: monospace;\n  background-color: var(--sklearn-color-background);\n  border-radius: 1rem;\n  height: 1rem;\n  width: 1rem;\n  text-decoration: none;\n  /* unfitted */\n  color: var(--sklearn-color-unfitted-level-1);\n  border: var(--sklearn-color-unfitted-level-1) 1pt solid;\n}\n\n#sk-container-id-1 a.estimator_doc_link.fitted {\n  /* fitted */\n  border: var(--sklearn-color-fitted-level-1) 1pt solid;\n  color: var(--sklearn-color-fitted-level-1);\n}\n\n/* On hover */\n#sk-container-id-1 a.estimator_doc_link:hover {\n  /* unfitted */\n  background-color: var(--sklearn-color-unfitted-level-3);\n  color: var(--sklearn-color-background);\n  text-decoration: none;\n}\n\n#sk-container-id-1 a.estimator_doc_link.fitted:hover {\n  /* fitted */\n  background-color: var(--sklearn-color-fitted-level-3);\n}\n</style><div id=\"sk-container-id-1\" class=\"sk-top-container\"><div class=\"sk-text-repr-fallback\"><pre>LogisticRegression(penalty=&#x27;l1&#x27;, solver=&#x27;liblinear&#x27;)</pre><b>In a Jupyter environment, please rerun this cell to show the HTML representation or trust the notebook. <br />On GitHub, the HTML representation is unable to render, please try loading this page with nbviewer.org.</b></div><div class=\"sk-container\" hidden><div class=\"sk-item\"><div class=\"sk-estimator fitted sk-toggleable\"><input class=\"sk-toggleable__control sk-hidden--visually\" id=\"sk-estimator-id-1\" type=\"checkbox\" checked><label for=\"sk-estimator-id-1\" class=\"sk-toggleable__label fitted sk-toggleable__label-arrow\"><div><div>LogisticRegression</div></div><div><a class=\"sk-estimator-doc-link fitted\" rel=\"noreferrer\" target=\"_blank\" href=\"https://scikit-learn.org/1.6/modules/generated/sklearn.linear_model.LogisticRegression.html\">?<span>Documentation for LogisticRegression</span></a><span class=\"sk-estimator-doc-link fitted\">i<span>Fitted</span></span></div></label><div class=\"sk-toggleable__content fitted\"><pre>LogisticRegression(penalty=&#x27;l1&#x27;, solver=&#x27;liblinear&#x27;)</pre></div> </div></div></div></div>"
          },
          "metadata": {}
        }
      ],
      "execution_count": 147,
      "metadata": {
        "gather": {
          "logged": 1748948511278
        }
      },
      "id": "1e07e266-c717-4e01-bb1d-d1c04440b3b7"
    },
    {
      "cell_type": "code",
      "source": [
        "#Now our model has been trained on our data I will use Pickle to export our trained model and import it again to run on our test data\n",
        "#open a file, where you want to store the data\n",
        "\n",
        "import pickle\n",
        "\n",
        "with open('Loan_Data_Logistic_model.pkl','wb') as file:\n",
        "    #dump information to the file\n",
        "    pickle.dump(model,file)   "
      ],
      "outputs": [],
      "execution_count": 159,
      "metadata": {
        "gather": {
          "logged": 1748948986505
        }
      },
      "id": "0435f02e-d1f6-4680-b2bb-496c0f3b59a1"
    },
    {
      "cell_type": "code",
      "source": [
        "with open('Loan_Data_Logistic_model.pkl','rb') as file: #Loading our trained model that we dumped as a pkl file\n",
        "    loaded_model = pickle.load(file)"
      ],
      "outputs": [],
      "execution_count": 149,
      "metadata": {
        "gather": {
          "logged": 1748948527820
        }
      },
      "id": "b4799e79-0a95-40dd-ad85-f3628a5edbff"
    },
    {
      "cell_type": "code",
      "source": [
        "loaded_model"
      ],
      "outputs": [
        {
          "output_type": "execute_result",
          "execution_count": 150,
          "data": {
            "text/plain": "LogisticRegression(penalty='l1', solver='liblinear')",
            "text/html": "<style>#sk-container-id-2 {\n  /* Definition of color scheme common for light and dark mode */\n  --sklearn-color-text: #000;\n  --sklearn-color-text-muted: #666;\n  --sklearn-color-line: gray;\n  /* Definition of color scheme for unfitted estimators */\n  --sklearn-color-unfitted-level-0: #fff5e6;\n  --sklearn-color-unfitted-level-1: #f6e4d2;\n  --sklearn-color-unfitted-level-2: #ffe0b3;\n  --sklearn-color-unfitted-level-3: chocolate;\n  /* Definition of color scheme for fitted estimators */\n  --sklearn-color-fitted-level-0: #f0f8ff;\n  --sklearn-color-fitted-level-1: #d4ebff;\n  --sklearn-color-fitted-level-2: #b3dbfd;\n  --sklearn-color-fitted-level-3: cornflowerblue;\n\n  /* Specific color for light theme */\n  --sklearn-color-text-on-default-background: var(--sg-text-color, var(--theme-code-foreground, var(--jp-content-font-color1, black)));\n  --sklearn-color-background: var(--sg-background-color, var(--theme-background, var(--jp-layout-color0, white)));\n  --sklearn-color-border-box: var(--sg-text-color, var(--theme-code-foreground, var(--jp-content-font-color1, black)));\n  --sklearn-color-icon: #696969;\n\n  @media (prefers-color-scheme: dark) {\n    /* Redefinition of color scheme for dark theme */\n    --sklearn-color-text-on-default-background: var(--sg-text-color, var(--theme-code-foreground, var(--jp-content-font-color1, white)));\n    --sklearn-color-background: var(--sg-background-color, var(--theme-background, var(--jp-layout-color0, #111)));\n    --sklearn-color-border-box: var(--sg-text-color, var(--theme-code-foreground, var(--jp-content-font-color1, white)));\n    --sklearn-color-icon: #878787;\n  }\n}\n\n#sk-container-id-2 {\n  color: var(--sklearn-color-text);\n}\n\n#sk-container-id-2 pre {\n  padding: 0;\n}\n\n#sk-container-id-2 input.sk-hidden--visually {\n  border: 0;\n  clip: rect(1px 1px 1px 1px);\n  clip: rect(1px, 1px, 1px, 1px);\n  height: 1px;\n  margin: -1px;\n  overflow: hidden;\n  padding: 0;\n  position: absolute;\n  width: 1px;\n}\n\n#sk-container-id-2 div.sk-dashed-wrapped {\n  border: 1px dashed var(--sklearn-color-line);\n  margin: 0 0.4em 0.5em 0.4em;\n  box-sizing: border-box;\n  padding-bottom: 0.4em;\n  background-color: var(--sklearn-color-background);\n}\n\n#sk-container-id-2 div.sk-container {\n  /* jupyter's `normalize.less` sets `[hidden] { display: none; }`\n     but bootstrap.min.css set `[hidden] { display: none !important; }`\n     so we also need the `!important` here to be able to override the\n     default hidden behavior on the sphinx rendered scikit-learn.org.\n     See: https://github.com/scikit-learn/scikit-learn/issues/21755 */\n  display: inline-block !important;\n  position: relative;\n}\n\n#sk-container-id-2 div.sk-text-repr-fallback {\n  display: none;\n}\n\ndiv.sk-parallel-item,\ndiv.sk-serial,\ndiv.sk-item {\n  /* draw centered vertical line to link estimators */\n  background-image: linear-gradient(var(--sklearn-color-text-on-default-background), var(--sklearn-color-text-on-default-background));\n  background-size: 2px 100%;\n  background-repeat: no-repeat;\n  background-position: center center;\n}\n\n/* Parallel-specific style estimator block */\n\n#sk-container-id-2 div.sk-parallel-item::after {\n  content: \"\";\n  width: 100%;\n  border-bottom: 2px solid var(--sklearn-color-text-on-default-background);\n  flex-grow: 1;\n}\n\n#sk-container-id-2 div.sk-parallel {\n  display: flex;\n  align-items: stretch;\n  justify-content: center;\n  background-color: var(--sklearn-color-background);\n  position: relative;\n}\n\n#sk-container-id-2 div.sk-parallel-item {\n  display: flex;\n  flex-direction: column;\n}\n\n#sk-container-id-2 div.sk-parallel-item:first-child::after {\n  align-self: flex-end;\n  width: 50%;\n}\n\n#sk-container-id-2 div.sk-parallel-item:last-child::after {\n  align-self: flex-start;\n  width: 50%;\n}\n\n#sk-container-id-2 div.sk-parallel-item:only-child::after {\n  width: 0;\n}\n\n/* Serial-specific style estimator block */\n\n#sk-container-id-2 div.sk-serial {\n  display: flex;\n  flex-direction: column;\n  align-items: center;\n  background-color: var(--sklearn-color-background);\n  padding-right: 1em;\n  padding-left: 1em;\n}\n\n\n/* Toggleable style: style used for estimator/Pipeline/ColumnTransformer box that is\nclickable and can be expanded/collapsed.\n- Pipeline and ColumnTransformer use this feature and define the default style\n- Estimators will overwrite some part of the style using the `sk-estimator` class\n*/\n\n/* Pipeline and ColumnTransformer style (default) */\n\n#sk-container-id-2 div.sk-toggleable {\n  /* Default theme specific background. It is overwritten whether we have a\n  specific estimator or a Pipeline/ColumnTransformer */\n  background-color: var(--sklearn-color-background);\n}\n\n/* Toggleable label */\n#sk-container-id-2 label.sk-toggleable__label {\n  cursor: pointer;\n  display: flex;\n  width: 100%;\n  margin-bottom: 0;\n  padding: 0.5em;\n  box-sizing: border-box;\n  text-align: center;\n  align-items: start;\n  justify-content: space-between;\n  gap: 0.5em;\n}\n\n#sk-container-id-2 label.sk-toggleable__label .caption {\n  font-size: 0.6rem;\n  font-weight: lighter;\n  color: var(--sklearn-color-text-muted);\n}\n\n#sk-container-id-2 label.sk-toggleable__label-arrow:before {\n  /* Arrow on the left of the label */\n  content: \"▸\";\n  float: left;\n  margin-right: 0.25em;\n  color: var(--sklearn-color-icon);\n}\n\n#sk-container-id-2 label.sk-toggleable__label-arrow:hover:before {\n  color: var(--sklearn-color-text);\n}\n\n/* Toggleable content - dropdown */\n\n#sk-container-id-2 div.sk-toggleable__content {\n  max-height: 0;\n  max-width: 0;\n  overflow: hidden;\n  text-align: left;\n  /* unfitted */\n  background-color: var(--sklearn-color-unfitted-level-0);\n}\n\n#sk-container-id-2 div.sk-toggleable__content.fitted {\n  /* fitted */\n  background-color: var(--sklearn-color-fitted-level-0);\n}\n\n#sk-container-id-2 div.sk-toggleable__content pre {\n  margin: 0.2em;\n  border-radius: 0.25em;\n  color: var(--sklearn-color-text);\n  /* unfitted */\n  background-color: var(--sklearn-color-unfitted-level-0);\n}\n\n#sk-container-id-2 div.sk-toggleable__content.fitted pre {\n  /* unfitted */\n  background-color: var(--sklearn-color-fitted-level-0);\n}\n\n#sk-container-id-2 input.sk-toggleable__control:checked~div.sk-toggleable__content {\n  /* Expand drop-down */\n  max-height: 200px;\n  max-width: 100%;\n  overflow: auto;\n}\n\n#sk-container-id-2 input.sk-toggleable__control:checked~label.sk-toggleable__label-arrow:before {\n  content: \"▾\";\n}\n\n/* Pipeline/ColumnTransformer-specific style */\n\n#sk-container-id-2 div.sk-label input.sk-toggleable__control:checked~label.sk-toggleable__label {\n  color: var(--sklearn-color-text);\n  background-color: var(--sklearn-color-unfitted-level-2);\n}\n\n#sk-container-id-2 div.sk-label.fitted input.sk-toggleable__control:checked~label.sk-toggleable__label {\n  background-color: var(--sklearn-color-fitted-level-2);\n}\n\n/* Estimator-specific style */\n\n/* Colorize estimator box */\n#sk-container-id-2 div.sk-estimator input.sk-toggleable__control:checked~label.sk-toggleable__label {\n  /* unfitted */\n  background-color: var(--sklearn-color-unfitted-level-2);\n}\n\n#sk-container-id-2 div.sk-estimator.fitted input.sk-toggleable__control:checked~label.sk-toggleable__label {\n  /* fitted */\n  background-color: var(--sklearn-color-fitted-level-2);\n}\n\n#sk-container-id-2 div.sk-label label.sk-toggleable__label,\n#sk-container-id-2 div.sk-label label {\n  /* The background is the default theme color */\n  color: var(--sklearn-color-text-on-default-background);\n}\n\n/* On hover, darken the color of the background */\n#sk-container-id-2 div.sk-label:hover label.sk-toggleable__label {\n  color: var(--sklearn-color-text);\n  background-color: var(--sklearn-color-unfitted-level-2);\n}\n\n/* Label box, darken color on hover, fitted */\n#sk-container-id-2 div.sk-label.fitted:hover label.sk-toggleable__label.fitted {\n  color: var(--sklearn-color-text);\n  background-color: var(--sklearn-color-fitted-level-2);\n}\n\n/* Estimator label */\n\n#sk-container-id-2 div.sk-label label {\n  font-family: monospace;\n  font-weight: bold;\n  display: inline-block;\n  line-height: 1.2em;\n}\n\n#sk-container-id-2 div.sk-label-container {\n  text-align: center;\n}\n\n/* Estimator-specific */\n#sk-container-id-2 div.sk-estimator {\n  font-family: monospace;\n  border: 1px dotted var(--sklearn-color-border-box);\n  border-radius: 0.25em;\n  box-sizing: border-box;\n  margin-bottom: 0.5em;\n  /* unfitted */\n  background-color: var(--sklearn-color-unfitted-level-0);\n}\n\n#sk-container-id-2 div.sk-estimator.fitted {\n  /* fitted */\n  background-color: var(--sklearn-color-fitted-level-0);\n}\n\n/* on hover */\n#sk-container-id-2 div.sk-estimator:hover {\n  /* unfitted */\n  background-color: var(--sklearn-color-unfitted-level-2);\n}\n\n#sk-container-id-2 div.sk-estimator.fitted:hover {\n  /* fitted */\n  background-color: var(--sklearn-color-fitted-level-2);\n}\n\n/* Specification for estimator info (e.g. \"i\" and \"?\") */\n\n/* Common style for \"i\" and \"?\" */\n\n.sk-estimator-doc-link,\na:link.sk-estimator-doc-link,\na:visited.sk-estimator-doc-link {\n  float: right;\n  font-size: smaller;\n  line-height: 1em;\n  font-family: monospace;\n  background-color: var(--sklearn-color-background);\n  border-radius: 1em;\n  height: 1em;\n  width: 1em;\n  text-decoration: none !important;\n  margin-left: 0.5em;\n  text-align: center;\n  /* unfitted */\n  border: var(--sklearn-color-unfitted-level-1) 1pt solid;\n  color: var(--sklearn-color-unfitted-level-1);\n}\n\n.sk-estimator-doc-link.fitted,\na:link.sk-estimator-doc-link.fitted,\na:visited.sk-estimator-doc-link.fitted {\n  /* fitted */\n  border: var(--sklearn-color-fitted-level-1) 1pt solid;\n  color: var(--sklearn-color-fitted-level-1);\n}\n\n/* On hover */\ndiv.sk-estimator:hover .sk-estimator-doc-link:hover,\n.sk-estimator-doc-link:hover,\ndiv.sk-label-container:hover .sk-estimator-doc-link:hover,\n.sk-estimator-doc-link:hover {\n  /* unfitted */\n  background-color: var(--sklearn-color-unfitted-level-3);\n  color: var(--sklearn-color-background);\n  text-decoration: none;\n}\n\ndiv.sk-estimator.fitted:hover .sk-estimator-doc-link.fitted:hover,\n.sk-estimator-doc-link.fitted:hover,\ndiv.sk-label-container:hover .sk-estimator-doc-link.fitted:hover,\n.sk-estimator-doc-link.fitted:hover {\n  /* fitted */\n  background-color: var(--sklearn-color-fitted-level-3);\n  color: var(--sklearn-color-background);\n  text-decoration: none;\n}\n\n/* Span, style for the box shown on hovering the info icon */\n.sk-estimator-doc-link span {\n  display: none;\n  z-index: 9999;\n  position: relative;\n  font-weight: normal;\n  right: .2ex;\n  padding: .5ex;\n  margin: .5ex;\n  width: min-content;\n  min-width: 20ex;\n  max-width: 50ex;\n  color: var(--sklearn-color-text);\n  box-shadow: 2pt 2pt 4pt #999;\n  /* unfitted */\n  background: var(--sklearn-color-unfitted-level-0);\n  border: .5pt solid var(--sklearn-color-unfitted-level-3);\n}\n\n.sk-estimator-doc-link.fitted span {\n  /* fitted */\n  background: var(--sklearn-color-fitted-level-0);\n  border: var(--sklearn-color-fitted-level-3);\n}\n\n.sk-estimator-doc-link:hover span {\n  display: block;\n}\n\n/* \"?\"-specific style due to the `<a>` HTML tag */\n\n#sk-container-id-2 a.estimator_doc_link {\n  float: right;\n  font-size: 1rem;\n  line-height: 1em;\n  font-family: monospace;\n  background-color: var(--sklearn-color-background);\n  border-radius: 1rem;\n  height: 1rem;\n  width: 1rem;\n  text-decoration: none;\n  /* unfitted */\n  color: var(--sklearn-color-unfitted-level-1);\n  border: var(--sklearn-color-unfitted-level-1) 1pt solid;\n}\n\n#sk-container-id-2 a.estimator_doc_link.fitted {\n  /* fitted */\n  border: var(--sklearn-color-fitted-level-1) 1pt solid;\n  color: var(--sklearn-color-fitted-level-1);\n}\n\n/* On hover */\n#sk-container-id-2 a.estimator_doc_link:hover {\n  /* unfitted */\n  background-color: var(--sklearn-color-unfitted-level-3);\n  color: var(--sklearn-color-background);\n  text-decoration: none;\n}\n\n#sk-container-id-2 a.estimator_doc_link.fitted:hover {\n  /* fitted */\n  background-color: var(--sklearn-color-fitted-level-3);\n}\n</style><div id=\"sk-container-id-2\" class=\"sk-top-container\"><div class=\"sk-text-repr-fallback\"><pre>LogisticRegression(penalty=&#x27;l1&#x27;, solver=&#x27;liblinear&#x27;)</pre><b>In a Jupyter environment, please rerun this cell to show the HTML representation or trust the notebook. <br />On GitHub, the HTML representation is unable to render, please try loading this page with nbviewer.org.</b></div><div class=\"sk-container\" hidden><div class=\"sk-item\"><div class=\"sk-estimator fitted sk-toggleable\"><input class=\"sk-toggleable__control sk-hidden--visually\" id=\"sk-estimator-id-2\" type=\"checkbox\" checked><label for=\"sk-estimator-id-2\" class=\"sk-toggleable__label fitted sk-toggleable__label-arrow\"><div><div>LogisticRegression</div></div><div><a class=\"sk-estimator-doc-link fitted\" rel=\"noreferrer\" target=\"_blank\" href=\"https://scikit-learn.org/1.6/modules/generated/sklearn.linear_model.LogisticRegression.html\">?<span>Documentation for LogisticRegression</span></a><span class=\"sk-estimator-doc-link fitted\">i<span>Fitted</span></span></div></label><div class=\"sk-toggleable__content fitted\"><pre>LogisticRegression(penalty=&#x27;l1&#x27;, solver=&#x27;liblinear&#x27;)</pre></div> </div></div></div></div>"
          },
          "metadata": {}
        }
      ],
      "execution_count": 150,
      "metadata": {
        "gather": {
          "logged": 1748948530873
        }
      },
      "id": "ec01d758-ca6e-46d8-a9e7-8baac019ba4a"
    },
    {
      "cell_type": "code",
      "source": [
        "y_pred = loaded_model.score(X_test,y_test) #Run our trained model on our test dataset"
      ],
      "outputs": [],
      "execution_count": 151,
      "metadata": {
        "gather": {
          "logged": 1748948533909
        }
      },
      "id": "1b465561-38eb-4338-bd13-f1d8faef007b"
    },
    {
      "cell_type": "code",
      "source": [
        "#checking how accurate our model was on our test data\n",
        "from sklearn.metrics import accuracy_score \n",
        "\n",
        "y_pred_test = loaded_model.predict(X_test)\n",
        "\n",
        "acc = accuracy_score(y_test, y_pred_test)\n",
        "print(f'Accuracy: {acc:.2f}%')"
      ],
      "outputs": [
        {
          "output_type": "stream",
          "name": "stdout",
          "text": "Accuracy: 0.86%\n"
        }
      ],
      "execution_count": 152,
      "metadata": {
        "gather": {
          "logged": 1748948536350
        }
      },
      "id": "943c7930-aebc-4ab8-9066-a64de6b9393f"
    },
    {
      "cell_type": "code",
      "source": [
        "#print the score on training and test set\n",
        "\n",
        "print(f'Training set score: {model.score(X_train,y_train):.2f}%') #accuracy of our model on our train data"
      ],
      "outputs": [
        {
          "output_type": "stream",
          "name": "stdout",
          "text": "Training set score: 0.80%\n"
        }
      ],
      "execution_count": 153,
      "metadata": {
        "gather": {
          "logged": 1748948540037
        }
      },
      "id": "539c1445-1f6d-463c-8bdd-0dd5572dd5a8"
    },
    {
      "cell_type": "code",
      "source": [
        "#Considering we have a very small dataset, I believe the model has done well and produced good reults."
      ],
      "outputs": [],
      "execution_count": 132,
      "metadata": {},
      "id": "a390b9e6-f66e-49c2-a785-c5bfa7f220c6"
    },
    {
      "cell_type": "code",
      "source": [
        "#Lets try and use a model with a larger C value to decrease regularization and check our models accuracy\n",
        "\n",
        "model100 = LogisticRegression(C=100,penalty='l1',solver='liblinear')"
      ],
      "outputs": [],
      "execution_count": 154,
      "metadata": {
        "gather": {
          "logged": 1748948548735
        }
      },
      "id": "0d6516df-fbd9-48ab-a1b4-e4dc8ea1091c"
    },
    {
      "cell_type": "code",
      "source": [
        "train_pred = model100.fit(X_train,y_train)"
      ],
      "outputs": [],
      "execution_count": 155,
      "metadata": {
        "gather": {
          "logged": 1748948550178
        }
      },
      "id": "2cc16393-0e40-46e1-a593-ff533b039136"
    },
    {
      "cell_type": "code",
      "source": [
        "print(f'Training set score: {train_pred.score(X_train,y_train):.2f}%') #accuracy of our model on our train data"
      ],
      "outputs": [
        {
          "output_type": "stream",
          "name": "stdout",
          "text": "Training set score: 0.80%\n"
        }
      ],
      "execution_count": 156,
      "metadata": {
        "gather": {
          "logged": 1748948551411
        }
      },
      "id": "106ae302-9c66-4c7c-ab3e-a0d8a458074f"
    },
    {
      "cell_type": "code",
      "source": [
        "#Nothing has changed we still got 80%"
      ],
      "outputs": [],
      "execution_count": 157,
      "metadata": {
        "gather": {
          "logged": 1748948553410
        }
      },
      "id": "9602180a-f400-448a-b57d-9ffbcf4a64cc"
    },
    {
      "cell_type": "code",
      "source": [
        "#Visualize our data accuracy with a classifcation report \n",
        "\n",
        "from sklearn.metrics import classification_report\n",
        "\n",
        "print(classification_report(y_test,y_pred_test))"
      ],
      "outputs": [
        {
          "output_type": "stream",
          "name": "stdout",
          "text": "              precision    recall  f1-score   support\n\n           0       1.00      0.56      0.72        39\n           1       0.83      1.00      0.91        84\n\n    accuracy                           0.86       123\n   macro avg       0.92      0.78      0.81       123\nweighted avg       0.89      0.86      0.85       123\n\n"
        }
      ],
      "execution_count": 158,
      "metadata": {
        "gather": {
          "logged": 1748948555395
        }
      },
      "id": "2ba09571-c1ad-476f-b542-be14807b1ee8"
    },
    {
      "cell_type": "code",
      "source": [
        "#for class 0Class 0 (minority class?)\n",
        "# Precision: 1.00 → Perfect when it predicted class 0\n",
        "# Recall: 0.56 → Only 56% of actual class 0s were correctly found.\n",
        "# F1: 0.72 → A bit of imbalance; model is cautious about predicting class 0.\n",
        "\n",
        "# Class 1\n",
        "# Precision: 0.83 → Sometimes predicts class 1 when it's not.\n",
        "# Recall: 1.00 → Caught all actual class 1 cases.\n",
        "# F1: 0.91 → Strong overall performance on this class.\n",
        "\n",
        "#Overall I am happy with the results of the model on our small dataset, we would a bigger dataset with less imbalance to increase the accuracy of this model"
      ],
      "outputs": [],
      "execution_count": 139,
      "metadata": {},
      "id": "89b8ca13-c753-40fc-87e6-3caef6b97855"
    },
    {
      "cell_type": "code",
      "source": [
        "import joblib\n",
        "\n",
        "joblib.dump(model,'LR_model.pkl')"
      ],
      "outputs": [
        {
          "output_type": "execute_result",
          "execution_count": 161,
          "data": {
            "text/plain": "['LR_model.pkl']"
          },
          "metadata": {}
        }
      ],
      "execution_count": 161,
      "metadata": {
        "gather": {
          "logged": 1748949649293
        }
      },
      "id": "9e6e9e7e-e286-4978-9e59-ee04b7ab40a8"
    },
    {
      "cell_type": "code",
      "source": [
        "!pip show azure-ai-ml"
      ],
      "outputs": [
        {
          "output_type": "stream",
          "name": "stdout",
          "text": "Name: azure-ai-ml\r\nVersion: 1.27.1\r\nSummary: Microsoft Azure Machine Learning Client Library for Python\r\nHome-page: https://github.com/Azure/azure-sdk-for-python\r\nAuthor: Microsoft Corporation\r\nAuthor-email: azuresdkengsysadmins@microsoft.com\r\nLicense: MIT License\r\nLocation: /anaconda/envs/azureml_py38/lib/python3.10/site-packages\r\nRequires: azure-common, azure-core, azure-mgmt-core, azure-monitor-opentelemetry, azure-storage-blob, azure-storage-file-datalake, azure-storage-file-share, colorama, isodate, jsonschema, marshmallow, msrest, pydash, pyjwt, pyyaml, six, strictyaml, tqdm, typing-extensions\r\nRequired-by: \r\n"
        }
      ],
      "execution_count": 1,
      "metadata": {},
      "id": "4ce595e6-eba4-479a-ba2c-18f8d5a519e3"
    },
    {
      "cell_type": "code",
      "source": [
        "!pip install --upgrade --quiet azure-ai-ml azure-identity\n"
      ],
      "outputs": [],
      "execution_count": 2,
      "metadata": {},
      "id": "7ccb0414-fe22-488b-b642-9a7ad33288f9"
    },
    {
      "cell_type": "code",
      "source": [
        "!pip install azure-ai-ml --upgrade --quiet"
      ],
      "outputs": [],
      "execution_count": 3,
      "metadata": {},
      "id": "8278ad9e-4f06-473a-b8c0-eab7b5ed55ea"
    },
    {
      "cell_type": "code",
      "source": [
        "!pip install azure-identity --upgrade --quiet"
      ],
      "outputs": [],
      "execution_count": 4,
      "metadata": {},
      "id": "b007afc7-90bc-4b9c-a488-3e8ef782d5ee"
    },
    {
      "cell_type": "code",
      "source": [
        "from azure.ai.ml.entities import Model\n",
        "from azure.ai.ml.constants import AssetTypes\n",
        "from azure.ai.ml import MLClient\n",
        "from azure.identity import DefaultAzureCredential\n",
        "\n",
        "credential = DefaultAzureCredential()\n",
        "ml_client = MLClient.from_config(credential)\n",
        "\n",
        "model = Model(\n",
        "    path='LR_model.pkl',\n",
        "    name='Logistc_Regression_Loan_Apprval',\n",
        "    type=AssetTypes.CUSTOM_MODEL,\n",
        "    description='Model for loan Aproval'\n",
        ")"
      ],
      "outputs": [
        {
          "output_type": "stream",
          "name": "stderr",
          "text": "Found the config file in: /config.json\nOverriding of current TracerProvider is not allowed\nOverriding of current LoggerProvider is not allowed\nOverriding of current MeterProvider is not allowed\nAttempting to instrument while already instrumented\nAttempting to instrument while already instrumented\nAttempting to instrument while already instrumented\nAttempting to instrument while already instrumented\nAttempting to instrument while already instrumented\n"
        }
      ],
      "execution_count": 10,
      "metadata": {
        "gather": {
          "logged": 1748951652666
        }
      },
      "id": "6edfe125-591f-4e50-ba66-c59ae0445f95"
    },
    {
      "cell_type": "code",
      "source": [
        "registered_model = ml_client.models.create_or_update(model)\n",
        "print(f'Model Registered: {registered_model} and {registered_model.version}')"
      ],
      "outputs": [
        {
          "output_type": "stream",
          "name": "stderr",
          "text": "\r\u001b[32mUploading LR_model.pkl\u001b[32m (< 1 MB): 0.00B [00:00, ?B/s]\r\u001b[32mUploading LR_model.pkl\u001b[32m (< 1 MB): 100%|██████████| 1.35k/1.35k [00:00<00:00, 51.9kB/s]\n\u001b[39m\n\n"
        },
        {
          "output_type": "stream",
          "name": "stdout",
          "text": "Model Registered: creation_context:\n  created_at: '2025-06-03T11:54:20.578694+00:00'\n  created_by: marty ryan\n  created_by_type: User\n  last_modified_at: '2025-06-03T11:54:20.578694+00:00'\n  last_modified_by: marty ryan\n  last_modified_by_type: User\ndescription: Model for loan Aproval\nid: azureml:/subscriptions/da2833c7-0511-40ba-bdd9-bd09dcb6069d/resourceGroups/az-mjrml-project1/providers/Microsoft.MachineLearningServices/workspaces/az-mjrml/models/Logistc_Regression_Loan_Apprval/versions/1\nname: Logistc_Regression_Loan_Apprval\npath: azureml://subscriptions/da2833c7-0511-40ba-bdd9-bd09dcb6069d/resourceGroups/az-mjrml-project1/workspaces/az-mjrml/datastores/workspaceblobstore/paths/LocalUpload/655ce68663138e12ae085c1abfa0fb11/LR_model.pkl\nproperties: {}\nstage: Development\ntags: {}\ntype: custom_model\nversion: '1'\n and 1\n"
        }
      ],
      "execution_count": 11,
      "metadata": {
        "gather": {
          "logged": 1748951661341
        }
      },
      "id": "94b3b47a-6429-4a30-a86f-f6401d0b5056"
    }
  ],
  "metadata": {
    "kernelspec": {
      "name": "python38-azureml",
      "language": "python",
      "display_name": "Python 3.10 - AzureML"
    },
    "language_info": {
      "name": "python",
      "version": "3.10.11",
      "mimetype": "text/x-python",
      "codemirror_mode": {
        "name": "ipython",
        "version": 3
      },
      "pygments_lexer": "ipython3",
      "nbconvert_exporter": "python",
      "file_extension": ".py"
    },
    "microsoft": {
      "ms_spell_check": {
        "ms_spell_check_language": "en"
      },
      "host": {
        "AzureML": {
          "notebookHasBeenCompleted": true
        }
      }
    },
    "kernel_info": {
      "name": "python38-azureml"
    },
    "nteract": {
      "version": "nteract-front-end@1.0.0"
    }
  },
  "nbformat": 4,
  "nbformat_minor": 5
}